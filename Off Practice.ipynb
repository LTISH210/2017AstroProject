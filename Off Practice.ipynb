{
 "cells": [
  {
   "cell_type": "code",
   "execution_count": 1,
   "metadata": {
    "collapsed": true
   },
   "outputs": [],
   "source": [
    "import yt\n",
    "import numpy as np\n",
    "import yt.units as u"
   ]
  },
  {
   "cell_type": "code",
   "execution_count": 2,
   "metadata": {
    "collapsed": false
   },
   "outputs": [
    {
     "name": "stderr",
     "output_type": "stream",
     "text": [
      "yt : [INFO     ] 2017-06-19 15:07:21,591 Calculating time from 1.000e+00 to be 4.355e+17 seconds\n",
      "yt : [INFO     ] 2017-06-19 15:07:21,592 Assuming length units are in kpc/h (comoving)\n",
      "yt : [INFO     ] 2017-06-19 15:07:21,619 Parameters: current_time              = 4.35455710881e+17 s\n",
      "yt : [INFO     ] 2017-06-19 15:07:21,620 Parameters: domain_dimensions         = [2 2 2]\n",
      "yt : [INFO     ] 2017-06-19 15:07:21,622 Parameters: domain_left_edge          = [ 0.  0.  0.]\n",
      "yt : [INFO     ] 2017-06-19 15:07:21,624 Parameters: domain_right_edge         = [ 60000.  60000.  60000.]\n",
      "yt : [INFO     ] 2017-06-19 15:07:21,626 Parameters: cosmological_simulation   = 1\n",
      "yt : [INFO     ] 2017-06-19 15:07:21,630 Parameters: current_redshift          = 0.0\n",
      "yt : [INFO     ] 2017-06-19 15:07:21,633 Parameters: omega_lambda              = 0.728\n",
      "yt : [INFO     ] 2017-06-19 15:07:21,636 Parameters: omega_matter              = 0.272\n",
      "yt : [INFO     ] 2017-06-19 15:07:21,637 Parameters: hubble_constant           = 0.702\n"
     ]
    }
   ],
   "source": [
    "ds = yt.load(\"/Users/astrocomnyc/Desktop/FIRE_M12i_ref11/snapshot_600.hdf5\")"
   ]
  },
  {
   "cell_type": "code",
   "execution_count": 3,
   "metadata": {
    "collapsed": false
   },
   "outputs": [
    {
     "name": "stderr",
     "output_type": "stream",
     "text": [
      "yt : [INFO     ] 2017-06-19 15:07:31,851 Allocating for 4.787e+06 particles (index particle type 'all')\n",
      "yt : [INFO     ] 2017-06-19 15:07:32,797 Identified 3.468e+05 octs\n",
      "yt : [INFO     ] 2017-06-19 15:08:11,302 Max Value is 1.30128e+02 at 29286.1032485961914062 31049.2944717407226562 32589.5833969116210938\n"
     ]
    }
   ],
   "source": [
    "val,loc=ds.find_max(('gas','H_number_density'))"
   ]
  },
  {
   "cell_type": "code",
   "execution_count": 4,
   "metadata": {
    "collapsed": true
   },
   "outputs": [],
   "source": [
    "a=loc.in_units(\"code_length\")"
   ]
  },
  {
   "cell_type": "code",
   "execution_count": 14,
   "metadata": {
    "collapsed": false
   },
   "outputs": [
    {
     "name": "stdout",
     "output_type": "stream",
     "text": [
      "[ 29286.1032486   31049.29447174  32589.58339691] code_length\n"
     ]
    }
   ],
   "source": [
    "print a"
   ]
  },
  {
   "cell_type": "code",
   "execution_count": 34,
   "metadata": {
    "collapsed": false
   },
   "outputs": [
    {
     "name": "stdout",
     "output_type": "stream",
     "text": [
      "[ 50.  50.  50.] kpc\n"
     ]
    }
   ],
   "source": [
    "b=ds.arr([50.0,50.0,50.0],\"kpc\")\n",
    "print b"
   ]
  },
  {
   "cell_type": "code",
   "execution_count": 37,
   "metadata": {
    "collapsed": false
   },
   "outputs": [
    {
     "name": "stdout",
     "output_type": "stream",
     "text": [
      "[ 35.1  35.1  35.1] code_length\n"
     ]
    }
   ],
   "source": [
    "d=b.in_units(\"code_length\")\n",
    "print c"
   ]
  },
  {
   "cell_type": "code",
   "execution_count": 38,
   "metadata": {
    "collapsed": true
   },
   "outputs": [],
   "source": [
    "c = a\n",
    "L = ([1.0,  0.0, 0.0])\n",
    "W = d\n",
    "Npixels = 512"
   ]
  },
  {
   "cell_type": "code",
   "execution_count": 39,
   "metadata": {
    "collapsed": true
   },
   "outputs": [],
   "source": [
    "image = yt.off_axis_projection(ds, c, L, W, Npixels, (\"gas\",\"H_number_density\"), no_ghost=False)"
   ]
  },
  {
   "cell_type": "code",
   "execution_count": 40,
   "metadata": {
    "collapsed": false
   },
   "outputs": [
    {
     "name": "stdout",
     "output_type": "stream",
     "text": [
      "[[  6.14464287e+12   6.14464287e+12   6.14464287e+12 ...,   6.84099452e+17\n",
      "    6.84099452e+17   6.84099452e+17]\n",
      " [  6.14464287e+12   6.14464287e+12   6.14464287e+12 ...,   6.84099452e+17\n",
      "    6.84099452e+17   6.84099452e+17]\n",
      " [  6.14464287e+12   6.14464287e+12   6.14464287e+12 ...,   6.84099452e+17\n",
      "    6.84099452e+17   6.84099452e+17]\n",
      " ..., \n",
      " [  1.64526458e+12   1.64526458e+12   1.64526458e+12 ...,   7.79363555e+12\n",
      "    7.79363555e+12   7.79363555e+12]\n",
      " [  1.64526458e+12   1.64526458e+12   1.64526458e+12 ...,   7.79363555e+12\n",
      "    7.79363555e+12   7.79363555e+12]\n",
      " [  1.64526458e+12   1.64526458e+12   1.64526458e+12 ...,   7.79363555e+12\n",
      "    7.79363555e+12   7.79363555e+12]] cm**(-2)\n"
     ]
    }
   ],
   "source": [
    "print image"
   ]
  },
  {
   "cell_type": "code",
   "execution_count": 41,
   "metadata": {
    "collapsed": false,
    "scrolled": true
   },
   "outputs": [
    {
     "name": "stdout",
     "output_type": "stream",
     "text": [
      "[[False False False ..., False False False]\n",
      " [False False False ..., False False False]\n",
      " [False False False ..., False False False]\n",
      " ..., \n",
      " [False False False ..., False False False]\n",
      " [False False False ..., False False False]\n",
      " [False False False ..., False False False]]\n"
     ]
    }
   ],
   "source": [
    "limit= image>2e20\n",
    "print limit"
   ]
  },
  {
   "cell_type": "code",
   "execution_count": 42,
   "metadata": {
    "collapsed": false
   },
   "outputs": [
    {
     "name": "stdout",
     "output_type": "stream",
     "text": [
      "425\n"
     ]
    }
   ],
   "source": [
    "subtotal=(np.sum(limit))\n",
    "print subtotal"
   ]
  },
  {
   "cell_type": "code",
   "execution_count": 45,
   "metadata": {
    "collapsed": false
   },
   "outputs": [
    {
     "name": "stdout",
     "output_type": "stream",
     "text": [
      "[ 0.06855469  0.06855469  0.06855469] code_length\n"
     ]
    }
   ],
   "source": [
    "ab=d/512\n",
    "print ab"
   ]
  },
  {
   "cell_type": "code",
   "execution_count": 13,
   "metadata": {
    "collapsed": false
   },
   "outputs": [
    {
     "data": {
      "text/plain": [
       "u'/Users/astrocomnyc'"
      ]
     },
     "execution_count": 13,
     "metadata": {},
     "output_type": "execute_result"
    }
   ],
   "source": [
    "#change to unit\n",
    "#take the center value \n",
    "#two center value and one zero\n",
    "#to get the same value as the x,y,z\n",
    "#on access\n",
    "#"
   ]
  },
  {
   "cell_type": "code",
   "execution_count": 46,
   "metadata": {
    "collapsed": true
   },
   "outputs": [],
   "source": [
    "pixel=ab.in_units(\"kpc\")"
   ]
  },
  {
   "cell_type": "code",
   "execution_count": 47,
   "metadata": {
    "collapsed": false
   },
   "outputs": [
    {
     "name": "stdout",
     "output_type": "stream",
     "text": [
      "[ 0.09765625  0.09765625  0.09765625] kpc\n"
     ]
    }
   ],
   "source": [
    "print pixel"
   ]
  },
  {
   "cell_type": "code",
   "execution_count": 49,
   "metadata": {
    "collapsed": false
   },
   "outputs": [
    {
     "name": "stdout",
     "output_type": "stream",
     "text": [
      "[ 0.00953674  0.00953674  0.00953674] kpc**2\n"
     ]
    }
   ],
   "source": [
    "area=pixel*pixel\n",
    "print area"
   ]
  },
  {
   "cell_type": "code",
   "execution_count": 50,
   "metadata": {
    "collapsed": false
   },
   "outputs": [
    {
     "name": "stdout",
     "output_type": "stream",
     "text": [
      "[ 4.05311584  4.05311584  4.05311584] kpc**2\n"
     ]
    }
   ],
   "source": [
    "total=subtotal*area\n",
    "print total"
   ]
  },
  {
   "cell_type": "code",
   "execution_count": null,
   "metadata": {
    "collapsed": true
   },
   "outputs": [],
   "source": []
  }
 ],
 "metadata": {
  "kernelspec": {
   "display_name": "Python 2",
   "language": "python",
   "name": "python2"
  },
  "language_info": {
   "codemirror_mode": {
    "name": "ipython",
    "version": 2
   },
   "file_extension": ".py",
   "mimetype": "text/x-python",
   "name": "python",
   "nbconvert_exporter": "python",
   "pygments_lexer": "ipython2",
   "version": "2.7.13"
  }
 },
 "nbformat": 4,
 "nbformat_minor": 2
}
