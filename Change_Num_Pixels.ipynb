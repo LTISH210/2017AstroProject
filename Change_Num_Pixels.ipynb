{
 "cells": [
  {
   "cell_type": "code",
   "execution_count": 1,
   "metadata": {
    "collapsed": true
   },
   "outputs": [],
   "source": [
    "import yt\n",
    "import numpy as np\n",
    "import yt.units as u"
   ]
  },
  {
   "cell_type": "code",
   "execution_count": 2,
   "metadata": {
    "collapsed": false
   },
   "outputs": [
    {
     "name": "stderr",
     "output_type": "stream",
     "text": [
      "yt : [INFO     ] 2017-06-20 12:13:34,201 Calculating time from 1.000e+00 to be 4.355e+17 seconds\n",
      "yt : [INFO     ] 2017-06-20 12:13:34,202 Assuming length units are in kpc/h (comoving)\n",
      "yt : [INFO     ] 2017-06-20 12:13:34,232 Parameters: current_time              = 4.35455710881e+17 s\n",
      "yt : [INFO     ] 2017-06-20 12:13:34,236 Parameters: domain_dimensions         = [2 2 2]\n",
      "yt : [INFO     ] 2017-06-20 12:13:34,238 Parameters: domain_left_edge          = [ 0.  0.  0.]\n",
      "yt : [INFO     ] 2017-06-20 12:13:34,240 Parameters: domain_right_edge         = [ 60000.  60000.  60000.]\n",
      "yt : [INFO     ] 2017-06-20 12:13:34,242 Parameters: cosmological_simulation   = 1\n",
      "yt : [INFO     ] 2017-06-20 12:13:34,245 Parameters: current_redshift          = 0.0\n",
      "yt : [INFO     ] 2017-06-20 12:13:34,247 Parameters: omega_lambda              = 0.728\n",
      "yt : [INFO     ] 2017-06-20 12:13:34,251 Parameters: omega_matter              = 0.272\n",
      "yt : [INFO     ] 2017-06-20 12:13:34,255 Parameters: hubble_constant           = 0.702\n"
     ]
    }
   ],
   "source": [
    "ds = yt.load(\"/Users/astrocomnyc/Desktop/FIRE_M12i_ref11/snapshot_600.hdf5\")"
   ]
  },
  {
   "cell_type": "code",
   "execution_count": 3,
   "metadata": {
    "collapsed": false
   },
   "outputs": [
    {
     "name": "stdout",
     "output_type": "stream",
     "text": [
      "/Users/astrocomnyc/Desktop\n"
     ]
    }
   ],
   "source": [
    "cd Desktop"
   ]
  },
  {
   "cell_type": "code",
   "execution_count": 4,
   "metadata": {
    "collapsed": true
   },
   "outputs": [],
   "source": [
    "import practiceFunction"
   ]
  },
  {
   "cell_type": "code",
   "execution_count": 19,
   "metadata": {
    "collapsed": false
   },
   "outputs": [
    {
     "data": {
      "text/plain": [
       "<module 'practiceFunction' from 'practiceFunction.py'>"
      ]
     },
     "execution_count": 19,
     "metadata": {},
     "output_type": "execute_result"
    }
   ],
   "source": [
    "reload(practiceFunction)"
   ]
  },
  {
   "cell_type": "code",
   "execution_count": 20,
   "metadata": {
    "collapsed": false
   },
   "outputs": [
    {
     "name": "stderr",
     "output_type": "stream",
     "text": [
      "yt : [INFO     ] 2017-06-20 14:43:30,722 Max Value is 1.30128e+02 at 29286.1032485961914062 31049.2944717407226562 32589.5833969116210938\n"
     ]
    },
    {
     "name": "stdout",
     "output_type": "stream",
     "text": [
      "[ 29286.1032486   31049.29447174  32589.58339691] code_length\n",
      "770\n",
      "[ 0.07324219  0.07324219  0.07324219] kpc\n",
      "[ 0.00536442  0.00536442  0.00536442] kpc**2\n",
      "[ 4.13060188  4.13060188  4.13060188] kpc**2\n"
     ]
    }
   ],
   "source": [
    "practiceFunction.practice(ds,w=75.0,Npixels=1024)"
   ]
  },
  {
   "cell_type": "code",
   "execution_count": 21,
   "metadata": {
    "collapsed": false
   },
   "outputs": [
    {
     "name": "stderr",
     "output_type": "stream",
     "text": [
      "yt : [INFO     ] 2017-06-20 14:46:52,960 Max Value is 1.30128e+02 at 29286.1032485961914062 31049.2944717407226562 32589.5833969116210938\n"
     ]
    },
    {
     "name": "stdout",
     "output_type": "stream",
     "text": [
      "[ 29286.1032486   31049.29447174  32589.58339691] code_length\n",
      "2134\n",
      "[ 0.04394531  0.04394531  0.04394531] kpc\n",
      "[ 0.00193119  0.00193119  0.00193119] kpc**2\n",
      "[ 4.12116051  4.12116051  4.12116051] kpc**2\n"
     ]
    }
   ],
   "source": [
    "practiceFunction.practice(ds,w=45.0,Npixels=1024)"
   ]
  },
  {
   "cell_type": "code",
   "execution_count": 9,
   "metadata": {
    "collapsed": false
   },
   "outputs": [
    {
     "name": "stderr",
     "output_type": "stream",
     "text": [
      "yt : [INFO     ] 2017-06-20 12:22:00,860 Max Value is 1.30128e+02 at 29286.1032485961914062 31049.2944717407226562 32589.5833969116210938\n"
     ]
    },
    {
     "name": "stdout",
     "output_type": "stream",
     "text": [
      "[ 29286.1032486   31049.29447174  32589.58339691] code_length\n",
      "[ 60.  60.  60.] kpc\n",
      "60.0\n",
      "[[  1.52265055e+13   1.52265055e+13   1.52265055e+13 ...,   3.29021388e+15\n",
      "    3.29021388e+15   3.29021388e+15]\n",
      " [  1.52265055e+13   1.52265055e+13   1.52265055e+13 ...,   3.29021388e+15\n",
      "    3.29021388e+15   3.29021388e+15]\n",
      " [  1.52265055e+13   1.52265055e+13   1.52265055e+13 ...,   3.29021388e+15\n",
      "    3.29021388e+15   3.29021388e+15]\n",
      " ..., \n",
      " [  2.86901427e+12   2.86901427e+12   2.86901427e+12 ...,   1.64728399e+13\n",
      "    1.64728399e+13   1.64728399e+13]\n",
      " [  2.86901427e+12   2.86901427e+12   2.86901427e+12 ...,   1.64728399e+13\n",
      "    1.64728399e+13   1.64728399e+13]\n",
      " [  2.86901427e+12   2.86901427e+12   2.86901427e+12 ...,   1.64728399e+13\n",
      "    1.64728399e+13   1.64728399e+13]] cm**(-2)\n",
      "[[False False False ..., False False False]\n",
      " [False False False ..., False False False]\n",
      " [False False False ..., False False False]\n",
      " ..., \n",
      " [False False False ..., False False False]\n",
      " [False False False ..., False False False]\n",
      " [False False False ..., False False False]]\n",
      "304\n",
      "[ 0.1171875  0.1171875  0.1171875] kpc\n",
      "[ 0.01373291  0.01373291  0.01373291] kpc**2\n",
      "[ 4.17480469  4.17480469  4.17480469] kpc**2\n"
     ]
    }
   ],
   "source": [
    "practiceFunction.practice(ds, w=60.0,Npixels=1024)"
   ]
  },
  {
   "cell_type": "code",
   "execution_count": 10,
   "metadata": {
    "collapsed": false
   },
   "outputs": [
    {
     "name": "stderr",
     "output_type": "stream",
     "text": [
      "yt : [INFO     ] 2017-06-20 12:25:12,035 Max Value is 1.30128e+02 at 29286.1032485961914062 31049.2944717407226562 32589.5833969116210938\n"
     ]
    },
    {
     "name": "stdout",
     "output_type": "stream",
     "text": [
      "[ 29286.1032486   31049.29447174  32589.58339691] code_length\n",
      "[ 80.  80.  80.] kpc\n",
      "80.0\n",
      "[[  4.92509236e+13   4.92509236e+13   5.35890419e+13 ...,   1.42676434e+15\n",
      "    1.42676434e+15   1.42676434e+15]\n",
      " [  4.92509236e+13   4.92509236e+13   5.35890419e+13 ...,   1.42676434e+15\n",
      "    1.42676434e+15   1.42676434e+15]\n",
      " [  4.92509236e+13   4.92509236e+13   5.35890419e+13 ...,   1.42676434e+15\n",
      "    1.42676434e+15   1.42676434e+15]\n",
      " ..., \n",
      " [  2.71228783e+13   2.71228783e+13   2.66507873e+13 ...,   8.50180419e+13\n",
      "    8.50180419e+13   8.50180419e+13]\n",
      " [  2.71228783e+13   2.71228783e+13   2.66507873e+13 ...,   8.50180419e+13\n",
      "    8.50180419e+13   8.50180419e+13]\n",
      " [  2.71228783e+13   2.71228783e+13   2.66507873e+13 ...,   8.50180419e+13\n",
      "    8.50180419e+13   8.50180419e+13]] cm**(-2)\n",
      "[[False False False ..., False False False]\n",
      " [False False False ..., False False False]\n",
      " [False False False ..., False False False]\n",
      " ..., \n",
      " [False False False ..., False False False]\n",
      " [False False False ..., False False False]\n",
      " [False False False ..., False False False]]\n",
      "163\n",
      "[ 0.15625  0.15625  0.15625] kpc\n",
      "[ 0.02441406  0.02441406  0.02441406] kpc**2\n",
      "[ 3.97949219  3.97949219  3.97949219] kpc**2\n"
     ]
    }
   ],
   "source": [
    "practiceFunction.practice(ds, a=80.0,b=80.0,c=80.0,Npixels=1024)"
   ]
  },
  {
   "cell_type": "code",
   "execution_count": 22,
   "metadata": {
    "collapsed": false
   },
   "outputs": [
    {
     "name": "stderr",
     "output_type": "stream",
     "text": [
      "yt : [INFO     ] 2017-06-20 14:50:32,749 Max Value is 1.30128e+02 at 29286.1032485961914062 31049.2944717407226562 32589.5833969116210938\n"
     ]
    },
    {
     "name": "stdout",
     "output_type": "stream",
     "text": [
      "[ 29286.1032486   31049.29447174  32589.58339691] code_length\n",
      "48\n",
      "[ 0.29296875  0.29296875  0.29296875] kpc\n",
      "[ 0.08583069  0.08583069  0.08583069] kpc**2\n",
      "[ 4.11987305  4.11987305  4.11987305] kpc**2\n"
     ]
    }
   ],
   "source": [
    "practiceFunction.practice(ds,w=75.0,Npixels=256)"
   ]
  },
  {
   "cell_type": "code",
   "execution_count": 23,
   "metadata": {
    "collapsed": false
   },
   "outputs": [
    {
     "name": "stderr",
     "output_type": "stream",
     "text": [
      "yt : [INFO     ] 2017-06-20 14:54:19,757 Max Value is 1.30128e+02 at 29286.1032485961914062 31049.2944717407226562 32589.5833969116210938\n"
     ]
    },
    {
     "name": "stdout",
     "output_type": "stream",
     "text": [
      "[ 29286.1032486   31049.29447174  32589.58339691] code_length\n",
      "130\n",
      "[ 0.17578125  0.17578125  0.17578125] kpc\n",
      "[ 0.03089905  0.03089905  0.03089905] kpc**2\n",
      "[ 4.01687622  4.01687622  4.01687622] kpc**2\n"
     ]
    }
   ],
   "source": [
    "practiceFunction.practice(ds,w=45.0,Npixels=256)"
   ]
  },
  {
   "cell_type": "code",
   "execution_count": 13,
   "metadata": {
    "collapsed": false
   },
   "outputs": [
    {
     "name": "stderr",
     "output_type": "stream",
     "text": [
      "yt : [INFO     ] 2017-06-20 12:33:54,151 Max Value is 1.30128e+02 at 29286.1032485961914062 31049.2944717407226562 32589.5833969116210938\n"
     ]
    },
    {
     "name": "stdout",
     "output_type": "stream",
     "text": [
      "[ 29286.1032486   31049.29447174  32589.58339691] code_length\n",
      "[ 60.  60.  60.] kpc\n",
      "60.0\n",
      "[[  1.52265055e+13   1.52265055e+13   1.52265055e+13 ...,   3.29021388e+15\n",
      "    3.29021388e+15   3.29021388e+15]\n",
      " [  1.52265055e+13   1.52265055e+13   1.52265055e+13 ...,   3.29021388e+15\n",
      "    3.29021388e+15   3.29021388e+15]\n",
      " [  1.52265055e+13   1.52265055e+13   1.52265055e+13 ...,   3.29021388e+15\n",
      "    3.29021388e+15   3.29021388e+15]\n",
      " ..., \n",
      " [  2.86901427e+12   2.86901427e+12   2.86901427e+12 ...,   1.64728399e+13\n",
      "    1.64728399e+13   1.64728399e+13]\n",
      " [  2.86901427e+12   2.86901427e+12   2.86901427e+12 ...,   1.64728399e+13\n",
      "    1.64728399e+13   1.64728399e+13]\n",
      " [  2.86901427e+12   2.86901427e+12   2.86901427e+12 ...,   1.64728399e+13\n",
      "    1.64728399e+13   1.64728399e+13]] cm**(-2)\n",
      "[[False False False ..., False False False]\n",
      " [False False False ..., False False False]\n",
      " [False False False ..., False False False]\n",
      " ..., \n",
      " [False False False ..., False False False]\n",
      " [False False False ..., False False False]\n",
      " [False False False ..., False False False]]\n",
      "304\n",
      "[ 0.1171875  0.1171875  0.1171875] kpc\n",
      "[ 0.01373291  0.01373291  0.01373291] kpc**2\n",
      "[ 4.17480469  4.17480469  4.17480469] kpc**2\n"
     ]
    }
   ],
   "source": [
    "practiceFunction.practice(ds, a=60.0,b=60.0,c=60.0,Npixels=256)"
   ]
  },
  {
   "cell_type": "code",
   "execution_count": 14,
   "metadata": {
    "collapsed": false
   },
   "outputs": [
    {
     "name": "stderr",
     "output_type": "stream",
     "text": [
      "yt : [INFO     ] 2017-06-20 12:36:45,483 Max Value is 1.30128e+02 at 29286.1032485961914062 31049.2944717407226562 32589.5833969116210938\n"
     ]
    },
    {
     "name": "stdout",
     "output_type": "stream",
     "text": [
      "[ 29286.1032486   31049.29447174  32589.58339691] code_length\n",
      "[ 80.  80.  80.] kpc\n",
      "80.0\n",
      "[[  4.92509236e+13   4.92509236e+13   5.35890419e+13 ...,   1.42676434e+15\n",
      "    1.42676434e+15   1.42676434e+15]\n",
      " [  4.92509236e+13   4.92509236e+13   5.35890419e+13 ...,   1.42676434e+15\n",
      "    1.42676434e+15   1.42676434e+15]\n",
      " [  4.92509236e+13   4.92509236e+13   5.35890419e+13 ...,   1.42676434e+15\n",
      "    1.42676434e+15   1.42676434e+15]\n",
      " ..., \n",
      " [  2.71228783e+13   2.71228783e+13   2.66507873e+13 ...,   8.50180419e+13\n",
      "    8.50180419e+13   8.50180419e+13]\n",
      " [  2.71228783e+13   2.71228783e+13   2.66507873e+13 ...,   8.50180419e+13\n",
      "    8.50180419e+13   8.50180419e+13]\n",
      " [  2.71228783e+13   2.71228783e+13   2.66507873e+13 ...,   8.50180419e+13\n",
      "    8.50180419e+13   8.50180419e+13]] cm**(-2)\n",
      "[[False False False ..., False False False]\n",
      " [False False False ..., False False False]\n",
      " [False False False ..., False False False]\n",
      " ..., \n",
      " [False False False ..., False False False]\n",
      " [False False False ..., False False False]\n",
      " [False False False ..., False False False]]\n",
      "163\n",
      "[ 0.15625  0.15625  0.15625] kpc\n",
      "[ 0.02441406  0.02441406  0.02441406] kpc**2\n",
      "[ 3.97949219  3.97949219  3.97949219] kpc**2\n"
     ]
    }
   ],
   "source": [
    "practiceFunction.practice(ds, a=80.0,b=80.0,c=80.0,Npixels=256)"
   ]
  },
  {
   "cell_type": "code",
   "execution_count": null,
   "metadata": {
    "collapsed": true
   },
   "outputs": [],
   "source": []
  }
 ],
 "metadata": {
  "kernelspec": {
   "display_name": "Python 2",
   "language": "python",
   "name": "python2"
  },
  "language_info": {
   "codemirror_mode": {
    "name": "ipython",
    "version": 2
   },
   "file_extension": ".py",
   "mimetype": "text/x-python",
   "name": "python",
   "nbconvert_exporter": "python",
   "pygments_lexer": "ipython2",
   "version": "2.7.13"
  }
 },
 "nbformat": 4,
 "nbformat_minor": 2
}
