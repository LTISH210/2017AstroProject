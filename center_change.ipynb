{
 "cells": [
  {
   "cell_type": "code",
   "execution_count": 41,
   "metadata": {
    "collapsed": true
   },
   "outputs": [],
   "source": [
    "import yt\n",
    "import numpy as np\n",
    "import yt.units as u"
   ]
  },
  {
   "cell_type": "code",
   "execution_count": 42,
   "metadata": {
    "collapsed": false
   },
   "outputs": [
    {
     "name": "stderr",
     "output_type": "stream",
     "text": [
      "yt : [INFO     ] 2017-06-20 15:21:31,171 Calculating time from 1.000e+00 to be 4.355e+17 seconds\n",
      "yt : [INFO     ] 2017-06-20 15:21:31,173 Assuming length units are in kpc/h (comoving)\n",
      "yt : [INFO     ] 2017-06-20 15:21:31,187 Parameters: current_time              = 4.35455710881e+17 s\n",
      "yt : [INFO     ] 2017-06-20 15:21:31,188 Parameters: domain_dimensions         = [2 2 2]\n",
      "yt : [INFO     ] 2017-06-20 15:21:31,189 Parameters: domain_left_edge          = [ 0.  0.  0.]\n",
      "yt : [INFO     ] 2017-06-20 15:21:31,191 Parameters: domain_right_edge         = [ 60000.  60000.  60000.]\n",
      "yt : [INFO     ] 2017-06-20 15:21:31,193 Parameters: cosmological_simulation   = 1\n",
      "yt : [INFO     ] 2017-06-20 15:21:31,194 Parameters: current_redshift          = 0.0\n",
      "yt : [INFO     ] 2017-06-20 15:21:31,197 Parameters: omega_lambda              = 0.728\n",
      "yt : [INFO     ] 2017-06-20 15:21:31,200 Parameters: omega_matter              = 0.272\n",
      "yt : [INFO     ] 2017-06-20 15:21:31,204 Parameters: hubble_constant           = 0.702\n"
     ]
    }
   ],
   "source": [
    "ds = yt.load(\"/Users/astrocomnyc/Desktop/FIRE_M12i_ref11/snapshot_600.hdf5\")"
   ]
  },
  {
   "cell_type": "code",
   "execution_count": 43,
   "metadata": {
    "collapsed": false
   },
   "outputs": [
    {
     "name": "stderr",
     "output_type": "stream",
     "text": [
      "yt : [INFO     ] 2017-06-20 15:21:33,489 Allocating for 4.787e+06 particles (index particle type 'all')\n",
      "yt : [INFO     ] 2017-06-20 15:21:34,287 Identified 3.468e+05 octs\n",
      "yt : [INFO     ] 2017-06-20 15:22:11,038 Max Value is 1.30128e+02 at 29286.1032485961914062 31049.2944717407226562 32589.5833969116210938\n"
     ]
    }
   ],
   "source": [
    "val,loc=ds.find_max(('gas','H_number_density'))"
   ]
  },
  {
   "cell_type": "code",
   "execution_count": 44,
   "metadata": {
    "collapsed": true
   },
   "outputs": [],
   "source": [
    "a=loc.in_units(\"code_length\")"
   ]
  },
  {
   "cell_type": "code",
   "execution_count": 5,
   "metadata": {
    "collapsed": false,
    "scrolled": true
   },
   "outputs": [
    {
     "name": "stdout",
     "output_type": "stream",
     "text": [
      "[ 29286.1032486   31049.29447174  32589.58339691] code_length\n"
     ]
    }
   ],
   "source": [
    "print a"
   ]
  },
  {
   "cell_type": "code",
   "execution_count": 51,
   "metadata": {
    "collapsed": false
   },
   "outputs": [
    {
     "name": "stdout",
     "output_type": "stream",
     "text": [
      "[ 52.65  52.65  52.65] code_length\n"
     ]
    }
   ],
   "source": [
    "width_array=(ds.arr([75.0,75.0,75.0],\"kpc\")).in_units(\"code_length\")\n",
    "print width_array"
   ]
  },
  {
   "cell_type": "code",
   "execution_count": 66,
   "metadata": {
    "collapsed": false,
    "scrolled": false
   },
   "outputs": [
    {
     "data": {
      "text/plain": [
       "['__class__',\n",
       " '__delattr__',\n",
       " '__dict__',\n",
       " '__doc__',\n",
       " '__format__',\n",
       " '__getattribute__',\n",
       " '__getitem__',\n",
       " '__hash__',\n",
       " '__init__',\n",
       " '__iter__',\n",
       " '__module__',\n",
       " '__new__',\n",
       " '__reduce__',\n",
       " '__reduce_ex__',\n",
       " '__repr__',\n",
       " '__setattr__',\n",
       " '__sizeof__',\n",
       " '__str__',\n",
       " '__subclasshook__',\n",
       " '__weakref__',\n",
       " '_add_object_class',\n",
       " '_arr',\n",
       " '_create_unit_registry',\n",
       " '_field_info_class',\n",
       " '_field_spec',\n",
       " '_file_class',\n",
       " '_get_field_info',\n",
       " '_get_hvals',\n",
       " '_get_uvals',\n",
       " '_guess_candidates',\n",
       " '_hash',\n",
       " '_header_spec',\n",
       " '_index_class',\n",
       " '_index_proxy',\n",
       " '_instantiated',\n",
       " '_instantiated_index',\n",
       " '_is_valid',\n",
       " '_last_finfo',\n",
       " '_last_freq',\n",
       " '_mrep',\n",
       " '_override_code_units',\n",
       " '_parse_parameter_file',\n",
       " '_particle_coordinates_name',\n",
       " '_particle_mass_name',\n",
       " '_particle_type_counts',\n",
       " '_particle_velocity_name',\n",
       " '_ptype_spec',\n",
       " '_quan',\n",
       " '_set_code_unit_attributes',\n",
       " '_set_derived_attrs',\n",
       " '_set_owls_eagle',\n",
       " '_set_owls_eagle_units',\n",
       " '_setup_binary_spec',\n",
       " '_setup_classes',\n",
       " '_setup_coordinate_handler',\n",
       " '_setup_filtered_type',\n",
       " '_setup_particle_type',\n",
       " '_setup_particle_types',\n",
       " '_skip_cache',\n",
       " '_suffix',\n",
       " '_unit_base',\n",
       " '_validate_header',\n",
       " 'add_deposited_particle_field',\n",
       " 'add_field',\n",
       " 'add_gradient_fields',\n",
       " 'add_particle_filter',\n",
       " 'add_particle_union',\n",
       " 'add_smoothed_particle_field',\n",
       " 'all_data',\n",
       " 'arbitrary_grid',\n",
       " 'arr',\n",
       " 'backup_filename',\n",
       " 'basename',\n",
       " 'box',\n",
       " 'close',\n",
       " 'conversion_factors',\n",
       " 'coordinates',\n",
       " 'cosmological_simulation',\n",
       " 'cosmology',\n",
       " 'covering_grid',\n",
       " 'create_field_info',\n",
       " 'critical_density',\n",
       " 'current_redshift',\n",
       " 'current_time',\n",
       " 'cut_region',\n",
       " 'cutting',\n",
       " 'data_collection',\n",
       " 'dataset_type',\n",
       " 'default_field',\n",
       " 'default_fluid_type',\n",
       " 'derived_field_list',\n",
       " 'dimensionality',\n",
       " 'directory',\n",
       " 'disk',\n",
       " 'domain_center',\n",
       " 'domain_dimensions',\n",
       " 'domain_left_edge',\n",
       " 'domain_right_edge',\n",
       " 'domain_width',\n",
       " 'ellipsoid',\n",
       " 'field_dependencies',\n",
       " 'field_info',\n",
       " 'field_list',\n",
       " 'field_units',\n",
       " 'fields',\n",
       " 'file_count',\n",
       " 'file_style',\n",
       " 'filename_template',\n",
       " 'filter_bbox',\n",
       " 'filtered_particle_types',\n",
       " 'find_field_values_at_point',\n",
       " 'find_field_values_at_points',\n",
       " 'find_max',\n",
       " 'find_min',\n",
       " 'fluid_types',\n",
       " 'fullpath',\n",
       " 'geometry',\n",
       " 'get_smallest_appropriate_unit',\n",
       " 'get_unit_from_registry',\n",
       " 'h',\n",
       " 'halo',\n",
       " 'has_key',\n",
       " 'hierarchy',\n",
       " 'hub_upload',\n",
       " 'hubble_constant',\n",
       " 'index',\n",
       " 'index_ptype',\n",
       " 'ires_factor',\n",
       " 'known_filters',\n",
       " 'length_unit',\n",
       " 'mass_unit',\n",
       " 'max_level',\n",
       " 'min_level',\n",
       " 'n_ref',\n",
       " 'no_cgs_equiv_length',\n",
       " 'object_types',\n",
       " 'objects',\n",
       " 'omega_lambda',\n",
       " 'omega_matter',\n",
       " 'ortho_ray',\n",
       " 'over_refine_factor',\n",
       " 'parameter_filename',\n",
       " 'parameters',\n",
       " 'particle_fields_by_type',\n",
       " 'particle_type_counts',\n",
       " 'particle_types',\n",
       " 'particle_types_raw',\n",
       " 'particle_unions',\n",
       " 'particles_exist',\n",
       " 'periodicity',\n",
       " 'plots',\n",
       " 'point',\n",
       " 'print_key_parameters',\n",
       " 'print_stats',\n",
       " 'proj',\n",
       " 'quan',\n",
       " 'r',\n",
       " 'ray',\n",
       " 'read_from_backup',\n",
       " 'refine_by',\n",
       " 'region',\n",
       " 'region_expression',\n",
       " 'relative_refinement',\n",
       " 'scale_factor',\n",
       " 'set_code_units',\n",
       " 'set_units',\n",
       " 'setup_deprecated_fields',\n",
       " 'slice',\n",
       " 'smoothed_covering_grid',\n",
       " 'sphere',\n",
       " 'storage_filename',\n",
       " 'streamline',\n",
       " 'surface',\n",
       " 'time_unit',\n",
       " 'unique_identifier',\n",
       " 'unit_registry',\n",
       " 'unit_system',\n",
       " 'units_override',\n",
       " 'velocity_unit']"
      ]
     },
     "execution_count": 66,
     "metadata": {},
     "output_type": "execute_result"
    }
   ],
   "source": [
    "dir(ds)"
   ]
  },
  {
   "cell_type": "code",
   "execution_count": 69,
   "metadata": {
    "collapsed": false
   },
   "outputs": [
    {
     "data": {
      "text/plain": [
       "'cartesian'"
      ]
     },
     "execution_count": 69,
     "metadata": {},
     "output_type": "execute_result"
    }
   ],
   "source": [
    "ds.geometry"
   ]
  },
  {
   "cell_type": "code",
   "execution_count": 52,
   "metadata": {
    "collapsed": true
   },
   "outputs": [],
   "source": [
    "L = ([ 29286.1032486,   31049.29447174, 0.0])\n",
    "Npixels = 512"
   ]
  },
  {
   "cell_type": "code",
   "execution_count": 53,
   "metadata": {
    "collapsed": true
   },
   "outputs": [],
   "source": [
    "image = yt.off_axis_projection(ds, a, L, width_array, Npixels, (\"gas\",\"H_number_density\"), no_ghost=False)"
   ]
  },
  {
   "cell_type": "code",
   "execution_count": 54,
   "metadata": {
    "collapsed": false
   },
   "outputs": [
    {
     "name": "stdout",
     "output_type": "stream",
     "text": [
      "[[False False False ..., False False False]\n",
      " [False False False ..., False False False]\n",
      " [False False False ..., False False False]\n",
      " ..., \n",
      " [False False False ..., False False False]\n",
      " [False False False ..., False False False]\n",
      " [False False False ..., False False False]]\n"
     ]
    }
   ],
   "source": [
    "limit=image>2e20\n",
    "print limit"
   ]
  },
  {
   "cell_type": "code",
   "execution_count": 55,
   "metadata": {
    "collapsed": false
   },
   "outputs": [
    {
     "name": "stdout",
     "output_type": "stream",
     "text": [
      "256\n"
     ]
    }
   ],
   "source": [
    "subtotal=(np.sum(limit))\n",
    "print subtotal"
   ]
  },
  {
   "cell_type": "code",
   "execution_count": 27,
   "metadata": {
    "collapsed": false
   },
   "outputs": [
    {
     "name": "stdout",
     "output_type": "stream",
     "text": [
      "[ 75.  75.  75.] kpc\n"
     ]
    }
   ],
   "source": []
  },
  {
   "cell_type": "code",
   "execution_count": 56,
   "metadata": {
    "collapsed": false
   },
   "outputs": [],
   "source": [
    "pixel_len=(width_array/Npixels)"
   ]
  },
  {
   "cell_type": "code",
   "execution_count": 57,
   "metadata": {
    "collapsed": false
   },
   "outputs": [
    {
     "name": "stdout",
     "output_type": "stream",
     "text": [
      "[ 0.14648438  0.14648438  0.14648438] kpc\n"
     ]
    }
   ],
   "source": [
    "per_pixel=pixel_len.in_units(\"kpc\")\n",
    "print per_pixel"
   ]
  },
  {
   "cell_type": "code",
   "execution_count": 58,
   "metadata": {
    "collapsed": false
   },
   "outputs": [
    {
     "name": "stdout",
     "output_type": "stream",
     "text": [
      "[ 0.02145767  0.02145767  0.02145767] kpc**2\n"
     ]
    }
   ],
   "source": [
    "area=per_pixel*per_pixel\n",
    "print area"
   ]
  },
  {
   "cell_type": "code",
   "execution_count": 59,
   "metadata": {
    "collapsed": false
   },
   "outputs": [
    {
     "name": "stdout",
     "output_type": "stream",
     "text": [
      "[ 5.49316406  5.49316406  5.49316406] kpc**2\n"
     ]
    }
   ],
   "source": [
    "total_area=area*subtotal\n",
    "print total_area"
   ]
  },
  {
   "cell_type": "code",
   "execution_count": 63,
   "metadata": {
    "collapsed": false
   },
   "outputs": [
    {
     "name": "stderr",
     "output_type": "stream",
     "text": [
      "yt : [INFO     ] 2017-06-20 15:42:38,972 Saving plot Tester.png\n"
     ]
    },
    {
     "data": {
      "text/plain": [
       "'Tester.png'"
      ]
     },
     "execution_count": 63,
     "metadata": {},
     "output_type": "execute_result"
    }
   ],
   "source": [
    "yt.write_projection(image, \"Tester.png\",\n",
    "                    colorbar_label=\"Column Density (cm$^{-2}$)\")"
   ]
  },
  {
   "cell_type": "code",
   "execution_count": null,
   "metadata": {
    "collapsed": true
   },
   "outputs": [],
   "source": []
  }
 ],
 "metadata": {
  "kernelspec": {
   "display_name": "Python 2",
   "language": "python",
   "name": "python2"
  },
  "language_info": {
   "codemirror_mode": {
    "name": "ipython",
    "version": 2
   },
   "file_extension": ".py",
   "mimetype": "text/x-python",
   "name": "python",
   "nbconvert_exporter": "python",
   "pygments_lexer": "ipython2",
   "version": "2.7.13"
  }
 },
 "nbformat": 4,
 "nbformat_minor": 2
}
