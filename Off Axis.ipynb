{
 "cells": [
  {
   "cell_type": "code",
   "execution_count": 67,
   "metadata": {
    "collapsed": true
   },
   "outputs": [],
   "source": [
    "import yt\n",
    "import numpy as np\n",
    "import yt.units as u"
   ]
  },
  {
   "cell_type": "code",
   "execution_count": 68,
   "metadata": {
    "collapsed": false
   },
   "outputs": [
    {
     "name": "stderr",
     "output_type": "stream",
     "text": [
      "yt : [INFO     ] 2017-06-19 15:09:09,544 Calculating time from 1.000e+00 to be 4.355e+17 seconds\n",
      "yt : [INFO     ] 2017-06-19 15:09:09,545 Assuming length units are in kpc/h (comoving)\n",
      "yt : [INFO     ] 2017-06-19 15:09:09,555 Parameters: current_time              = 4.35455710881e+17 s\n",
      "yt : [INFO     ] 2017-06-19 15:09:09,556 Parameters: domain_dimensions         = [2 2 2]\n",
      "yt : [INFO     ] 2017-06-19 15:09:09,558 Parameters: domain_left_edge          = [ 0.  0.  0.]\n",
      "yt : [INFO     ] 2017-06-19 15:09:09,560 Parameters: domain_right_edge         = [ 60000.  60000.  60000.]\n",
      "yt : [INFO     ] 2017-06-19 15:09:09,561 Parameters: cosmological_simulation   = 1\n",
      "yt : [INFO     ] 2017-06-19 15:09:09,563 Parameters: current_redshift          = 0.0\n",
      "yt : [INFO     ] 2017-06-19 15:09:09,564 Parameters: omega_lambda              = 0.728\n",
      "yt : [INFO     ] 2017-06-19 15:09:09,568 Parameters: omega_matter              = 0.272\n",
      "yt : [INFO     ] 2017-06-19 15:09:09,570 Parameters: hubble_constant           = 0.702\n"
     ]
    }
   ],
   "source": [
    "ds = yt.load(\"/Users/astrocomnyc/Desktop/FIRE_M12i_ref11/snapshot_600.hdf5\")"
   ]
  },
  {
   "cell_type": "code",
   "execution_count": 49,
   "metadata": {
    "collapsed": false
   },
   "outputs": [],
   "source": [
    "c = a\n",
    "L = ([1.28728593e+26,   1.36478792e+26, 1.43449212e+26])\n",
    "W = ([1.543e+23,1.543e+23,1.543e+23])\n",
    "Npixels = 512"
   ]
  },
  {
   "cell_type": "code",
   "execution_count": 69,
   "metadata": {
    "collapsed": false
   },
   "outputs": [
    {
     "name": "stderr",
     "output_type": "stream",
     "text": [
      "yt : [INFO     ] 2017-06-19 15:09:09,586 Allocating for 4.787e+06 particles (index particle type 'all')\n",
      "yt : [INFO     ] 2017-06-19 15:09:10,415 Identified 3.468e+05 octs\n",
      "yt : [INFO     ] 2017-06-19 15:09:47,844 Max Value is 1.30128e+02 at 29286.1032485961914062 31049.2944717407226562 32589.5833969116210938\n"
     ]
    }
   ],
   "source": [
    "val,loc=ds.find_max(('gas','H_number_density'))"
   ]
  },
  {
   "cell_type": "code",
   "execution_count": 70,
   "metadata": {
    "collapsed": false
   },
   "outputs": [],
   "source": [
    "a=loc.in_units(\"code_length\")"
   ]
  },
  {
   "cell_type": "code",
   "execution_count": 71,
   "metadata": {
    "collapsed": true
   },
   "outputs": [],
   "source": [
    "c = a\n",
    "L = ([1.0,  0.0, 0.0])\n",
    "W = ([0.04, 0.04, 0.4])\n",
    "Npixels = 512"
   ]
  },
  {
   "cell_type": "code",
   "execution_count": 72,
   "metadata": {
    "collapsed": false
   },
   "outputs": [],
   "source": [
    "image = yt.off_axis_projection(ds, c, L, W, Npixels, (\"gas\",\"H_number_density\"), no_ghost=False)"
   ]
  },
  {
   "cell_type": "code",
   "execution_count": 51,
   "metadata": {
    "collapsed": false
   },
   "outputs": [
    {
     "name": "stdout",
     "output_type": "stream",
     "text": [
      "[[ 0.  0.  0. ...,  0.  0.  0.]\n",
      " [ 0.  0.  0. ...,  0.  0.  0.]\n",
      " [ 0.  0.  0. ...,  0.  0.  0.]\n",
      " ..., \n",
      " [ 0.  0.  0. ...,  0.  0.  0.]\n",
      " [ 0.  0.  0. ...,  0.  0.  0.]\n",
      " [ 0.  0.  0. ...,  0.  0.  0.]] cm**(-2)\n"
     ]
    }
   ],
   "source": [
    "print image"
   ]
  },
  {
   "cell_type": "code",
   "execution_count": null,
   "metadata": {
    "collapsed": false
   },
   "outputs": [],
   "source": []
  },
  {
   "cell_type": "code",
   "execution_count": 54,
   "metadata": {
    "collapsed": false
   },
   "outputs": [
    {
     "name": "stdout",
     "output_type": "stream",
     "text": [
      "[[False False False ..., False False False]\n",
      " [False False False ..., False False False]\n",
      " [False False False ..., False False False]\n",
      " ..., \n",
      " [False False False ..., False False False]\n",
      " [False False False ..., False False False]\n",
      " [False False False ..., False False False]]\n"
     ]
    }
   ],
   "source": [
    "limit=image>0.000334747044761\n",
    "print limit"
   ]
  },
  {
   "cell_type": "code",
   "execution_count": 37,
   "metadata": {
    "collapsed": false
   },
   "outputs": [
    {
     "name": "stdout",
     "output_type": "stream",
     "text": [
      "1.67373522381e-24 g\n"
     ]
    }
   ],
   "source": [
    "a=u.mp\n",
    "print a"
   ]
  },
  {
   "cell_type": "code",
   "execution_count": 38,
   "metadata": {
    "collapsed": false,
    "scrolled": true
   },
   "outputs": [
    {
     "data": {
      "text/plain": [
       "0.000334747044761 g"
      ]
     },
     "execution_count": 38,
     "metadata": {},
     "output_type": "execute_result"
    }
   ],
   "source": [
    "a*2e20"
   ]
  },
  {
   "cell_type": "code",
   "execution_count": 55,
   "metadata": {
    "collapsed": false
   },
   "outputs": [
    {
     "name": "stdout",
     "output_type": "stream",
     "text": [
      "0\n",
      "0.0 cm**(-2)\n"
     ]
    }
   ],
   "source": [
    "subtotal=(np.sum(limit))\n",
    "print subtotal\n",
    "b=np.max(image)\n",
    "print b"
   ]
  },
  {
   "cell_type": "code",
   "execution_count": 17,
   "metadata": {
    "collapsed": false
   },
   "outputs": [
    {
     "data": {
      "text/plain": [
       "yt.data_objects.image_array.ImageArray"
      ]
     },
     "execution_count": 17,
     "metadata": {},
     "output_type": "execute_result"
    }
   ],
   "source": [
    "type(image)"
   ]
  },
  {
   "cell_type": "code",
   "execution_count": null,
   "metadata": {
    "collapsed": true
   },
   "outputs": [],
   "source": []
  }
 ],
 "metadata": {
  "kernelspec": {
   "display_name": "Python 2",
   "language": "python",
   "name": "python2"
  },
  "language_info": {
   "codemirror_mode": {
    "name": "ipython",
    "version": 2
   },
   "file_extension": ".py",
   "mimetype": "text/x-python",
   "name": "python",
   "nbconvert_exporter": "python",
   "pygments_lexer": "ipython2",
   "version": "2.7.13"
  }
 },
 "nbformat": 4,
 "nbformat_minor": 2
}
