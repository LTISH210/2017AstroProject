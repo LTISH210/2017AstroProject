{
 "cells": [
  {
   "cell_type": "code",
   "execution_count": 99,
   "metadata": {
    "collapsed": false
   },
   "outputs": [],
   "source": [
    "import yt\n",
    "import numpy as np"
   ]
  },
  {
   "cell_type": "code",
   "execution_count": 100,
   "metadata": {
    "collapsed": false,
    "scrolled": true
   },
   "outputs": [
    {
     "name": "stderr",
     "output_type": "stream",
     "text": [
      "yt : [INFO     ] 2017-06-15 15:09:47,285 Calculating time from 1.000e+00 to be 4.355e+17 seconds\n",
      "yt : [INFO     ] 2017-06-15 15:09:47,287 Assuming length units are in kpc/h (comoving)\n",
      "yt : [INFO     ] 2017-06-15 15:09:47,305 Parameters: current_time              = 4.35455710881e+17 s\n",
      "yt : [INFO     ] 2017-06-15 15:09:47,306 Parameters: domain_dimensions         = [2 2 2]\n",
      "yt : [INFO     ] 2017-06-15 15:09:47,310 Parameters: domain_left_edge          = [ 0.  0.  0.]\n",
      "yt : [INFO     ] 2017-06-15 15:09:47,313 Parameters: domain_right_edge         = [ 60000.  60000.  60000.]\n",
      "yt : [INFO     ] 2017-06-15 15:09:47,318 Parameters: cosmological_simulation   = 1\n",
      "yt : [INFO     ] 2017-06-15 15:09:47,322 Parameters: current_redshift          = 0.0\n",
      "yt : [INFO     ] 2017-06-15 15:09:47,324 Parameters: omega_lambda              = 0.728\n",
      "yt : [INFO     ] 2017-06-15 15:09:47,326 Parameters: omega_matter              = 0.272\n",
      "yt : [INFO     ] 2017-06-15 15:09:47,329 Parameters: hubble_constant           = 0.702\n"
     ]
    }
   ],
   "source": [
    "ds = yt.load(\"/Users/astrocomnyc/Desktop/FIRE_M12i_ref11/snapshot_600.hdf5\")"
   ]
  },
  {
   "cell_type": "code",
   "execution_count": 103,
   "metadata": {
    "collapsed": false
   },
   "outputs": [
    {
     "name": "stderr",
     "output_type": "stream",
     "text": [
      "yt : [INFO     ] 2017-06-15 15:11:19,185 Max Value is 1.30128e+02 at 29286.1032485961914062 31049.2944717407226562 32589.5833969116210938\n"
     ]
    }
   ],
   "source": [
    "val,loc=ds.find_max(('gas','H_number_density'))"
   ]
  },
  {
   "cell_type": "code",
   "execution_count": 104,
   "metadata": {
    "collapsed": false
   },
   "outputs": [],
   "source": [
    "da = ds.sphere(loc,(50,'kpc'))"
   ]
  },
  {
   "cell_type": "code",
   "execution_count": null,
   "metadata": {
    "collapsed": true
   },
   "outputs": [],
   "source": []
  },
  {
   "cell_type": "code",
   "execution_count": 105,
   "metadata": {
    "collapsed": false
   },
   "outputs": [
    {
     "data": {
      "text/plain": [
       "YTSphere (snapshot_600): , center=[  1.28728593e+26   1.36478792e+26   1.43249212e+26] cm, radius=1.54283879048e+23 cm"
      ]
     },
     "execution_count": 105,
     "metadata": {},
     "output_type": "execute_result"
    }
   ],
   "source": [
    "da"
   ]
  },
  {
   "cell_type": "code",
   "execution_count": null,
   "metadata": {
    "collapsed": true
   },
   "outputs": [],
   "source": []
  },
  {
   "cell_type": "code",
   "execution_count": 106,
   "metadata": {
    "collapsed": false
   },
   "outputs": [
    {
     "name": "stderr",
     "output_type": "stream",
     "text": [
      "yt : [INFO     ] 2017-06-15 15:12:58,429 Projection completed\n"
     ]
    }
   ],
   "source": [
    "proja=sim.proj((\"gas\",\"H_number_density\"),0)"
   ]
  },
  {
   "cell_type": "code",
   "execution_count": 107,
   "metadata": {
    "collapsed": false
   },
   "outputs": [],
   "source": [
    "proj_frb = proja.to_frb((50, 'kpc'),512, center=(loc))"
   ]
  },
  {
   "cell_type": "code",
   "execution_count": 108,
   "metadata": {
    "collapsed": false,
    "scrolled": true
   },
   "outputs": [
    {
     "name": "stderr",
     "output_type": "stream",
     "text": [
      "yt : [INFO     ] 2017-06-15 15:12:58,450 Making a fixed resolution buffer of (('gas', 'H_number_density')) 512 by 512\n"
     ]
    }
   ],
   "source": [
    "proj_dens =(proj_frb[(\"gas\",\"H_number_density\")])"
   ]
  },
  {
   "cell_type": "code",
   "execution_count": 109,
   "metadata": {
    "collapsed": false
   },
   "outputs": [
    {
     "data": {
      "text/plain": [
       "5.34323226829e+22 cm**(-2)"
      ]
     },
     "execution_count": 109,
     "metadata": {},
     "output_type": "execute_result"
    }
   ],
   "source": [
    "proj_dens.max()"
   ]
  },
  {
   "cell_type": "code",
   "execution_count": 110,
   "metadata": {
    "collapsed": false
   },
   "outputs": [
    {
     "data": {
      "text/plain": [
       "ImageArray([[  1.32241403e+14,   1.32241403e+14,   1.32241403e+14, ...,\n",
       "          1.44301289e+14,   1.44301289e+14,   1.44301289e+14],\n",
       "       [  1.32241403e+14,   1.32241403e+14,   1.32241403e+14, ...,\n",
       "          1.44301289e+14,   1.44301289e+14,   1.44301289e+14],\n",
       "       [  1.32241403e+14,   1.32241403e+14,   1.32241403e+14, ...,\n",
       "          1.44301289e+14,   1.44301289e+14,   1.44301289e+14],\n",
       "       ..., \n",
       "       [  2.16292879e+18,   2.16292879e+18,   2.16292879e+18, ...,\n",
       "          1.02254706e+14,   1.02254706e+14,   1.02254706e+14],\n",
       "       [  2.16292879e+18,   2.16292879e+18,   2.16292879e+18, ...,\n",
       "          1.02254706e+14,   1.02254706e+14,   1.02254706e+14],\n",
       "       [  2.16292879e+18,   2.16292879e+18,   2.16292879e+18, ...,\n",
       "          1.02254706e+14,   1.02254706e+14,   1.02254706e+14]]) cm**(-2)"
      ]
     },
     "execution_count": 110,
     "metadata": {},
     "output_type": "execute_result"
    }
   ],
   "source": [
    "proj_dens"
   ]
  },
  {
   "cell_type": "code",
   "execution_count": 113,
   "metadata": {
    "collapsed": false,
    "scrolled": true
   },
   "outputs": [
    {
     "data": {
      "text/plain": [
       "array([[False, False, False, ..., False, False, False],\n",
       "       [False, False, False, ..., False, False, False],\n",
       "       [False, False, False, ..., False, False, False],\n",
       "       ..., \n",
       "       [False, False, False, ..., False, False, False],\n",
       "       [False, False, False, ..., False, False, False],\n",
       "       [False, False, False, ..., False, False, False]], dtype=bool)"
      ]
     },
     "execution_count": 113,
     "metadata": {},
     "output_type": "execute_result"
    }
   ],
   "source": [
    "proj_dens>2e20"
   ]
  },
  {
   "cell_type": "code",
   "execution_count": 112,
   "metadata": {
    "collapsed": false
   },
   "outputs": [
    {
     "name": "stdout",
     "output_type": "stream",
     "text": [
      "442\n"
     ]
    }
   ],
   "source": [
    "a=np.sum(proj_dens>2e20)\n",
    "print a"
   ]
  },
  {
   "cell_type": "code",
   "execution_count": 78,
   "metadata": {
    "collapsed": false
   },
   "outputs": [
    {
     "name": "stdout",
     "output_type": "stream",
     "text": [
      "0.09765625\n"
     ]
    }
   ],
   "source": [
    "b=50.0/512.0\n",
    "print b"
   ]
  },
  {
   "cell_type": "code",
   "execution_count": 82,
   "metadata": {
    "collapsed": false
   },
   "outputs": [
    {
     "name": "stdout",
     "output_type": "stream",
     "text": [
      "0.00953674316406\n"
     ]
    }
   ],
   "source": [
    "c=b*b\n",
    "print c"
   ]
  },
  {
   "cell_type": "code",
   "execution_count": 83,
   "metadata": {
    "collapsed": false
   },
   "outputs": [
    {
     "name": "stdout",
     "output_type": "stream",
     "text": [
      "4.21524047852\n"
     ]
    }
   ],
   "source": [
    "d=a*c\n",
    "print d"
   ]
  },
  {
   "cell_type": "code",
   "execution_count": null,
   "metadata": {
    "collapsed": true
   },
   "outputs": [],
   "source": []
  }
 ],
 "metadata": {
  "kernelspec": {
   "display_name": "Python 2",
   "language": "python",
   "name": "python2"
  },
  "language_info": {
   "codemirror_mode": {
    "name": "ipython",
    "version": 2
   },
   "file_extension": ".py",
   "mimetype": "text/x-python",
   "name": "python",
   "nbconvert_exporter": "python",
   "pygments_lexer": "ipython2",
   "version": "2.7.13"
  }
 },
 "nbformat": 4,
 "nbformat_minor": 2
}
