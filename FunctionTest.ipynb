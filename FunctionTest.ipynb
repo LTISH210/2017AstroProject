{
 "cells": [
  {
   "cell_type": "code",
   "execution_count": 1,
   "metadata": {
    "collapsed": false
   },
   "outputs": [
    {
     "name": "stdout",
     "output_type": "stream",
     "text": [
      "/Users/astrocomnyc/Desktop\n"
     ]
    }
   ],
   "source": [
    "cd Desktop"
   ]
  },
  {
   "cell_type": "code",
   "execution_count": 13,
   "metadata": {
    "collapsed": false
   },
   "outputs": [
    {
     "name": "stderr",
     "output_type": "stream",
     "text": [
      "yt : [INFO     ] 2017-06-15 14:35:02,668 Calculating time from 1.000e+00 to be 4.355e+17 seconds\n",
      "yt : [INFO     ] 2017-06-15 14:35:02,671 Assuming length units are in kpc/h (comoving)\n",
      "yt : [INFO     ] 2017-06-15 14:35:02,687 Parameters: current_time              = 4.35455710881e+17 s\n",
      "yt : [INFO     ] 2017-06-15 14:35:02,689 Parameters: domain_dimensions         = [2 2 2]\n",
      "yt : [INFO     ] 2017-06-15 14:35:02,690 Parameters: domain_left_edge          = [ 0.  0.  0.]\n",
      "yt : [INFO     ] 2017-06-15 14:35:02,692 Parameters: domain_right_edge         = [ 60000.  60000.  60000.]\n",
      "yt : [INFO     ] 2017-06-15 14:35:02,693 Parameters: cosmological_simulation   = 1\n",
      "yt : [INFO     ] 2017-06-15 14:35:02,694 Parameters: current_redshift          = 0.0\n",
      "yt : [INFO     ] 2017-06-15 14:35:02,695 Parameters: omega_lambda              = 0.728\n",
      "yt : [INFO     ] 2017-06-15 14:35:02,695 Parameters: omega_matter              = 0.272\n",
      "yt : [INFO     ] 2017-06-15 14:35:02,696 Parameters: hubble_constant           = 0.702\n"
     ]
    }
   ],
   "source": [
    "%run importSim"
   ]
  },
  {
   "cell_type": "code",
   "execution_count": 25,
   "metadata": {
    "collapsed": false
   },
   "outputs": [],
   "source": [
    "import finalFunction"
   ]
  },
  {
   "cell_type": "code",
   "execution_count": 41,
   "metadata": {
    "collapsed": false
   },
   "outputs": [
    {
     "data": {
      "text/plain": [
       "<module 'finalFunction' from 'finalFunction.py'>"
      ]
     },
     "execution_count": 41,
     "metadata": {},
     "output_type": "execute_result"
    }
   ],
   "source": [
    "reload (finalFunction)"
   ]
  },
  {
   "cell_type": "code",
   "execution_count": 42,
   "metadata": {
    "collapsed": false
   },
   "outputs": [
    {
     "name": "stderr",
     "output_type": "stream",
     "text": [
      "yt : [INFO     ] 2017-06-15 15:16:52,622 Projection completed\n"
     ]
    },
    {
     "name": "stdout",
     "output_type": "stream",
     "text": [
      "YTQuadTreeProj (snapshot_600): , axis=0, field=[('gas', 'H_number_density')], weight_field=None\n"
     ]
    },
    {
     "name": "stderr",
     "output_type": "stream",
     "text": [
      "yt : [INFO     ] 2017-06-15 15:16:52,626 Making a fixed resolution buffer of (('gas', 'H_number_density')) 512 by 512\n"
     ]
    },
    {
     "name": "stdout",
     "output_type": "stream",
     "text": [
      "[[  1.32241403e+14   1.32241403e+14   1.32241403e+14 ...,   1.44301289e+14\n",
      "    1.44301289e+14   1.44301289e+14]\n",
      " [  1.32241403e+14   1.32241403e+14   1.32241403e+14 ...,   1.44301289e+14\n",
      "    1.44301289e+14   1.44301289e+14]\n",
      " [  1.32241403e+14   1.32241403e+14   1.32241403e+14 ...,   1.44301289e+14\n",
      "    1.44301289e+14   1.44301289e+14]\n",
      " ..., \n",
      " [  2.16292879e+18   2.16292879e+18   2.16292879e+18 ...,   1.02254706e+14\n",
      "    1.02254706e+14   1.02254706e+14]\n",
      " [  2.16292879e+18   2.16292879e+18   2.16292879e+18 ...,   1.02254706e+14\n",
      "    1.02254706e+14   1.02254706e+14]\n",
      " [  2.16292879e+18   2.16292879e+18   2.16292879e+18 ...,   1.02254706e+14\n",
      "    1.02254706e+14   1.02254706e+14]] cm**(-2)\n",
      "[[False False False ..., False False False]\n",
      " [False False False ..., False False False]\n",
      " [False False False ..., False False False]\n",
      " ..., \n",
      " [False False False ..., False False False]\n",
      " [False False False ..., False False False]\n",
      " [False False False ..., False False False]]\n",
      "442\n",
      "Total number of true values totaled: 442\n",
      "pixels per: 0.09765625\n",
      "Area of a pixel: 0.00953674316406\n",
      "The Total Area is: 4.21524047852\n"
     ]
    }
   ],
   "source": [
    "finalFunction.finalFunction(ds)"
   ]
  },
  {
   "cell_type": "code",
   "execution_count": null,
   "metadata": {
    "collapsed": true
   },
   "outputs": [],
   "source": []
  }
 ],
 "metadata": {
  "kernelspec": {
   "display_name": "Python 2",
   "language": "python",
   "name": "python2"
  },
  "language_info": {
   "codemirror_mode": {
    "name": "ipython",
    "version": 2
   },
   "file_extension": ".py",
   "mimetype": "text/x-python",
   "name": "python",
   "nbconvert_exporter": "python",
   "pygments_lexer": "ipython2",
   "version": "2.7.13"
  }
 },
 "nbformat": 4,
 "nbformat_minor": 2
}
