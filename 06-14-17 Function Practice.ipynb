{
 "cells": [
  {
   "cell_type": "code",
   "execution_count": 1,
   "metadata": {
    "collapsed": false
   },
   "outputs": [
    {
     "name": "stderr",
     "output_type": "stream",
     "text": [
      "yt : [INFO     ] 2017-06-14 11:35:10,436 Calculating time from 1.000e+00 to be 4.355e+17 seconds\n",
      "yt : [INFO     ] 2017-06-14 11:35:10,437 Assuming length units are in kpc/h (comoving)\n",
      "yt : [INFO     ] 2017-06-14 11:35:10,476 Parameters: current_time              = 4.35455710881e+17 s\n",
      "yt : [INFO     ] 2017-06-14 11:35:10,477 Parameters: domain_dimensions         = [2 2 2]\n",
      "yt : [INFO     ] 2017-06-14 11:35:10,483 Parameters: domain_left_edge          = [ 0.  0.  0.]\n",
      "yt : [INFO     ] 2017-06-14 11:35:10,487 Parameters: domain_right_edge         = [ 60000.  60000.  60000.]\n",
      "yt : [INFO     ] 2017-06-14 11:35:10,489 Parameters: cosmological_simulation   = 1\n",
      "yt : [INFO     ] 2017-06-14 11:35:10,491 Parameters: current_redshift          = 0.0\n",
      "yt : [INFO     ] 2017-06-14 11:35:10,495 Parameters: omega_lambda              = 0.728\n",
      "yt : [INFO     ] 2017-06-14 11:35:10,497 Parameters: omega_matter              = 0.272\n",
      "yt : [INFO     ] 2017-06-14 11:35:10,499 Parameters: hubble_constant           = 0.702\n"
     ]
    }
   ],
   "source": [
    "import yt\n",
    "path = \"/Users/astrocomnyc/Desktop/FIRE_M12i_ref11/snapshot_600.hdf5\"\n",
    "#path of simulation\n",
    "sim=yt.load(path)\n",
    "#simulation"
   ]
  },
  {
   "cell_type": "code",
   "execution_count": 2,
   "metadata": {
    "collapsed": false
   },
   "outputs": [
    {
     "name": "stdout",
     "output_type": "stream",
     "text": [
      "/Users/astrocomnyc/Desktop\n"
     ]
    }
   ],
   "source": [
    "cd Desktop"
   ]
  },
  {
   "cell_type": "code",
   "execution_count": 3,
   "metadata": {
    "collapsed": true
   },
   "outputs": [],
   "source": [
    "import Test"
   ]
  },
  {
   "cell_type": "code",
   "execution_count": 66,
   "metadata": {
    "collapsed": false
   },
   "outputs": [
    {
     "name": "stderr",
     "output_type": "stream",
     "text": [
      "yt : [INFO     ] 2017-06-14 14:58:38,123 Max Value is 4.06917e-22 at 29286.1032485961914062 31049.2944717407226562 32589.5833969116210938\n",
      "yt : [INFO     ] 2017-06-14 14:59:12,803 Projection completed\n"
     ]
    },
    {
     "name": "stdout",
     "output_type": "stream",
     "text": [
      "<yt.visualization.fixed_resolution.FixedResolutionBuffer object at 0x118c7db50>\n",
      "0.0 g/cm**2\n"
     ]
    },
    {
     "data": {
      "text/plain": [
       "69118"
      ]
     },
     "execution_count": 66,
     "metadata": {},
     "output_type": "execute_result"
    }
   ],
   "source": [
    "Test.firstFunction(sim)"
   ]
  },
  {
   "cell_type": "code",
   "execution_count": null,
   "metadata": {
    "collapsed": false
   },
   "outputs": [],
   "source": []
  },
  {
   "cell_type": "code",
   "execution_count": null,
   "metadata": {
    "collapsed": false
   },
   "outputs": [],
   "source": []
  },
  {
   "cell_type": "code",
   "execution_count": null,
   "metadata": {
    "collapsed": false
   },
   "outputs": [],
   "source": []
  },
  {
   "cell_type": "code",
   "execution_count": 15,
   "metadata": {
    "collapsed": false
   },
   "outputs": [
    {
     "name": "stderr",
     "output_type": "stream",
     "text": [
      "yt : [INFO     ] 2017-06-14 11:55:47,540 Projection completed\n"
     ]
    }
   ],
   "source": [
    "proj=sim.proj(\"density\",0)\n",
    "proj_frb = proj.to_frb((1.0, \"Mpc\"),512)"
   ]
  },
  {
   "cell_type": "code",
   "execution_count": 34,
   "metadata": {
    "collapsed": false,
    "scrolled": false
   },
   "outputs": [
    {
     "data": {
      "text/plain": [
       "ImageArray([[  5.69944649e-11,   5.69944649e-11,   5.69944649e-11, ...,\n",
       "          2.11259780e-10,   2.11259780e-10,   2.11259780e-10],\n",
       "       [  5.69944649e-11,   5.69944649e-11,   5.69944649e-11, ...,\n",
       "          2.11259780e-10,   2.11259780e-10,   2.11259780e-10],\n",
       "       [  5.69944649e-11,   5.69944649e-11,   5.69944649e-11, ...,\n",
       "          2.11259780e-10,   2.11259780e-10,   2.11259780e-10],\n",
       "       ..., \n",
       "       [  2.01622359e-09,   2.01622359e-09,   2.01622359e-09, ...,\n",
       "          1.80347159e-09,   1.80347159e-09,   1.80347159e-09],\n",
       "       [  2.01622359e-09,   2.01622359e-09,   2.01622359e-09, ...,\n",
       "          1.80347159e-09,   1.80347159e-09,   1.80347159e-09],\n",
       "       [  2.01622359e-09,   2.01622359e-09,   2.01622359e-09, ...,\n",
       "          1.80347159e-09,   1.80347159e-09,   1.80347159e-09]]) g/cm**2"
      ]
     },
     "execution_count": 34,
     "metadata": {},
     "output_type": "execute_result"
    }
   ],
   "source": [
    "proj_frb['density']"
   ]
  },
  {
   "cell_type": "code",
   "execution_count": 23,
   "metadata": {
    "collapsed": true
   },
   "outputs": [],
   "source": [
    "import yt.units as u"
   ]
  },
  {
   "cell_type": "code",
   "execution_count": 24,
   "metadata": {
    "collapsed": false
   },
   "outputs": [
    {
     "data": {
      "text/plain": [
       "0.000334747044761 g"
      ]
     },
     "execution_count": 24,
     "metadata": {},
     "output_type": "execute_result"
    }
   ],
   "source": [
    "u.mp*2e20"
   ]
  },
  {
   "cell_type": "code",
   "execution_count": 25,
   "metadata": {
    "collapsed": false
   },
   "outputs": [
    {
     "data": {
      "text/plain": [
       "3.34747044761e-07 g"
      ]
     },
     "execution_count": 25,
     "metadata": {},
     "output_type": "execute_result"
    }
   ],
   "source": [
    "u.mp*2e17"
   ]
  },
  {
   "cell_type": "code",
   "execution_count": 33,
   "metadata": {
    "collapsed": false
   },
   "outputs": [
    {
     "data": {
      "text/plain": [
       "array([[False, False, False, ...,  True,  True,  True],\n",
       "       [False, False, False, ...,  True,  True,  True],\n",
       "       [False, False, False, ...,  True,  True,  True],\n",
       "       ..., \n",
       "       [ True,  True,  True, ...,  True,  True,  True],\n",
       "       [ True,  True,  True, ...,  True,  True,  True],\n",
       "       [ True,  True,  True, ...,  True,  True,  True]], dtype=bool)"
      ]
     },
     "execution_count": 33,
     "metadata": {},
     "output_type": "execute_result"
    }
   ],
   "source": [
    "proj_frb['density']>1.0e-10"
   ]
  },
  {
   "cell_type": "code",
   "execution_count": 67,
   "metadata": {
    "collapsed": false,
    "scrolled": true
   },
   "outputs": [
    {
     "name": "stderr",
     "output_type": "stream",
     "text": [
      "yt : [INFO     ] 2017-06-14 15:38:53,472 Projection completed\n"
     ]
    }
   ],
   "source": [
    "proja=sim.proj((\"gas\",\"H_number_density\"),0)"
   ]
  },
  {
   "cell_type": "code",
   "execution_count": 72,
   "metadata": {
    "collapsed": false
   },
   "outputs": [
    {
     "name": "stdout",
     "output_type": "stream",
     "text": [
      "YTQuadTreeProj (snapshot_600): , axis=0, field=[('gas', 'H_number_density')], weight_field=None\n"
     ]
    }
   ],
   "source": [
    "print proja"
   ]
  },
  {
   "cell_type": "code",
   "execution_count": null,
   "metadata": {
    "collapsed": false
   },
   "outputs": [],
   "source": []
  },
  {
   "cell_type": "code",
   "execution_count": 71,
   "metadata": {
    "collapsed": false
   },
   "outputs": [
    {
     "name": "stdout",
     "output_type": "stream",
     "text": [
      "[ 0.  0.  0. ...,  0.  0.  0.]\n"
     ]
    }
   ],
   "source": [
    "print proj_dens"
   ]
  },
  {
   "cell_type": "code",
   "execution_count": null,
   "metadata": {
    "collapsed": false
   },
   "outputs": [],
   "source": []
  },
  {
   "cell_type": "code",
   "execution_count": null,
   "metadata": {
    "collapsed": false
   },
   "outputs": [],
   "source": []
  },
  {
   "cell_type": "code",
   "execution_count": 64,
   "metadata": {
    "collapsed": false
   },
   "outputs": [
    {
     "name": "stderr",
     "output_type": "stream",
     "text": [
      "yt : [INFO     ] 2017-06-14 14:10:49,702 Projection completed\n"
     ]
    }
   ],
   "source": [
    "\n"
   ]
  },
  {
   "cell_type": "code",
   "execution_count": 63,
   "metadata": {
    "collapsed": false
   },
   "outputs": [
    {
     "data": {
      "text/plain": [
       "[('PartType0', 'C_metallicity'),\n",
       " ('PartType0', 'C_nuclei_density'),\n",
       " ('PartType0', 'C_nuclei_mass_density'),\n",
       " ('PartType0', 'Ca_metallicity'),\n",
       " ('PartType0', 'Ca_nuclei_density'),\n",
       " ('PartType0', 'Ca_nuclei_mass_density'),\n",
       " ('PartType0', 'Coordinates'),\n",
       " ('PartType0', 'Density'),\n",
       " ('PartType0', 'ElectronAbundance'),\n",
       " ('PartType0', 'Fe_metallicity'),\n",
       " ('PartType0', 'Fe_nuclei_density'),\n",
       " ('PartType0', 'Fe_nuclei_mass_density'),\n",
       " ('PartType0', 'H_density'),\n",
       " ('PartType0', 'H_fraction'),\n",
       " ('PartType0', 'H_mass'),\n",
       " ('PartType0', 'H_nuclei_density'),\n",
       " ('PartType0', 'H_number_density'),\n",
       " ('PartType0', 'H_p0_density'),\n",
       " ('PartType0', 'H_p0_fraction'),\n",
       " ('PartType0', 'H_p0_mass'),\n",
       " ('PartType0', 'H_p0_number_density'),\n",
       " ('PartType0', 'H_p1_density'),\n",
       " ('PartType0', 'H_p1_fraction'),\n",
       " ('PartType0', 'H_p1_mass'),\n",
       " ('PartType0', 'H_p1_number_density'),\n",
       " ('PartType0', 'He_metallicity'),\n",
       " ('PartType0', 'He_nuclei_density'),\n",
       " ('PartType0', 'He_nuclei_mass_density'),\n",
       " ('PartType0', 'InternalEnergy'),\n",
       " ('PartType0', 'Masses'),\n",
       " ('PartType0', 'Metallicity_00'),\n",
       " ('PartType0', 'Metallicity_01'),\n",
       " ('PartType0', 'Metallicity_02'),\n",
       " ('PartType0', 'Metallicity_03'),\n",
       " ('PartType0', 'Metallicity_04'),\n",
       " ('PartType0', 'Metallicity_05'),\n",
       " ('PartType0', 'Metallicity_06'),\n",
       " ('PartType0', 'Metallicity_07'),\n",
       " ('PartType0', 'Metallicity_08'),\n",
       " ('PartType0', 'Metallicity_09'),\n",
       " ('PartType0', 'Metallicity_10'),\n",
       " ('PartType0', 'Mg_metallicity'),\n",
       " ('PartType0', 'Mg_nuclei_density'),\n",
       " ('PartType0', 'Mg_nuclei_mass_density'),\n",
       " ('PartType0', 'N_metallicity'),\n",
       " ('PartType0', 'N_nuclei_density'),\n",
       " ('PartType0', 'N_nuclei_mass_density'),\n",
       " ('PartType0', 'Ne_metallicity'),\n",
       " ('PartType0', 'Ne_nuclei_density'),\n",
       " ('PartType0', 'Ne_nuclei_mass_density'),\n",
       " ('PartType0', 'NeutralHydrogenAbundance'),\n",
       " ('PartType0', 'O_metallicity'),\n",
       " ('PartType0', 'O_nuclei_density'),\n",
       " ('PartType0', 'O_nuclei_mass_density'),\n",
       " ('PartType0', 'ParticleIDs'),\n",
       " ('PartType0', 'Potential'),\n",
       " ('PartType0', 'S_metallicity'),\n",
       " ('PartType0', 'S_nuclei_density'),\n",
       " ('PartType0', 'S_nuclei_mass_density'),\n",
       " ('PartType0', 'Si_metallicity'),\n",
       " ('PartType0', 'Si_nuclei_density'),\n",
       " ('PartType0', 'Si_nuclei_mass_density'),\n",
       " ('PartType0', 'SmoothingLength'),\n",
       " ('PartType0', 'StarFormationRate'),\n",
       " ('PartType0', 'Temperature'),\n",
       " ('PartType0', 'Velocities'),\n",
       " ('PartType0', 'density'),\n",
       " ('PartType0', 'mesh_id'),\n",
       " ('PartType0', 'metallicity'),\n",
       " ('PartType0', 'particle_angular_momentum'),\n",
       " ('PartType0', 'particle_angular_momentum_magnitude'),\n",
       " ('PartType0', 'particle_angular_momentum_x'),\n",
       " ('PartType0', 'particle_angular_momentum_y'),\n",
       " ('PartType0', 'particle_angular_momentum_z'),\n",
       " ('PartType0', 'particle_cylindrical_velocity_theta'),\n",
       " ('PartType0', 'particle_cylindrical_velocity_z'),\n",
       " ('PartType0', 'particle_index'),\n",
       " ('PartType0', 'particle_mass'),\n",
       " ('PartType0', 'particle_ones'),\n",
       " ('PartType0', 'particle_position'),\n",
       " ('PartType0', 'particle_position_cylindrical_radius'),\n",
       " ('PartType0', 'particle_position_cylindrical_theta'),\n",
       " ('PartType0', 'particle_position_cylindrical_z'),\n",
       " ('PartType0', 'particle_position_relative'),\n",
       " ('PartType0', 'particle_position_relative_x'),\n",
       " ('PartType0', 'particle_position_relative_y'),\n",
       " ('PartType0', 'particle_position_relative_z'),\n",
       " ('PartType0', 'particle_position_spherical_phi'),\n",
       " ('PartType0', 'particle_position_spherical_radius'),\n",
       " ('PartType0', 'particle_position_spherical_theta'),\n",
       " ('PartType0', 'particle_position_x'),\n",
       " ('PartType0', 'particle_position_y'),\n",
       " ('PartType0', 'particle_position_z'),\n",
       " ('PartType0', 'particle_radial_velocity'),\n",
       " ('PartType0', 'particle_radius'),\n",
       " ('PartType0', 'particle_specific_angular_momentum'),\n",
       " ('PartType0', 'particle_specific_angular_momentum_x'),\n",
       " ('PartType0', 'particle_specific_angular_momentum_y'),\n",
       " ('PartType0', 'particle_specific_angular_momentum_z'),\n",
       " ('PartType0', 'particle_spherical_position_phi'),\n",
       " ('PartType0', 'particle_spherical_position_radius'),\n",
       " ('PartType0', 'particle_spherical_position_theta'),\n",
       " ('PartType0', 'particle_spherical_velocity_phi'),\n",
       " ('PartType0', 'particle_spherical_velocity_radius'),\n",
       " ('PartType0', 'particle_spherical_velocity_theta'),\n",
       " ('PartType0', 'particle_velocity'),\n",
       " ('PartType0', 'particle_velocity_cylindrical_radius'),\n",
       " ('PartType0', 'particle_velocity_cylindrical_theta'),\n",
       " ('PartType0', 'particle_velocity_cylindrical_z'),\n",
       " ('PartType0', 'particle_velocity_magnitude'),\n",
       " ('PartType0', 'particle_velocity_relative'),\n",
       " ('PartType0', 'particle_velocity_relative_x'),\n",
       " ('PartType0', 'particle_velocity_relative_y'),\n",
       " ('PartType0', 'particle_velocity_relative_z'),\n",
       " ('PartType0', 'particle_velocity_spherical_phi'),\n",
       " ('PartType0', 'particle_velocity_spherical_radius'),\n",
       " ('PartType0', 'particle_velocity_spherical_theta'),\n",
       " ('PartType0', 'particle_velocity_x'),\n",
       " ('PartType0', 'particle_velocity_y'),\n",
       " ('PartType0', 'particle_velocity_z'),\n",
       " ('PartType0', 'smoothing_length'),\n",
       " ('PartType0', 'temperature'),\n",
       " ('PartType0', 'thermal_energy'),\n",
       " ('PartType1', 'Coordinates'),\n",
       " ('PartType1', 'Masses'),\n",
       " ('PartType1', 'ParticleIDs'),\n",
       " ('PartType1', 'Potential'),\n",
       " ('PartType1', 'Velocities'),\n",
       " ('PartType1', 'mesh_id'),\n",
       " ('PartType1', 'particle_angular_momentum'),\n",
       " ('PartType1', 'particle_angular_momentum_magnitude'),\n",
       " ('PartType1', 'particle_angular_momentum_x'),\n",
       " ('PartType1', 'particle_angular_momentum_y'),\n",
       " ('PartType1', 'particle_angular_momentum_z'),\n",
       " ('PartType1', 'particle_cylindrical_velocity_theta'),\n",
       " ('PartType1', 'particle_cylindrical_velocity_z'),\n",
       " ('PartType1', 'particle_index'),\n",
       " ('PartType1', 'particle_mass'),\n",
       " ('PartType1', 'particle_ones'),\n",
       " ('PartType1', 'particle_position'),\n",
       " ('PartType1', 'particle_position_cylindrical_radius'),\n",
       " ('PartType1', 'particle_position_cylindrical_theta'),\n",
       " ('PartType1', 'particle_position_cylindrical_z'),\n",
       " ('PartType1', 'particle_position_relative'),\n",
       " ('PartType1', 'particle_position_relative_x'),\n",
       " ('PartType1', 'particle_position_relative_y'),\n",
       " ('PartType1', 'particle_position_relative_z'),\n",
       " ('PartType1', 'particle_position_spherical_phi'),\n",
       " ('PartType1', 'particle_position_spherical_radius'),\n",
       " ('PartType1', 'particle_position_spherical_theta'),\n",
       " ('PartType1', 'particle_position_x'),\n",
       " ('PartType1', 'particle_position_y'),\n",
       " ('PartType1', 'particle_position_z'),\n",
       " ('PartType1', 'particle_radial_velocity'),\n",
       " ('PartType1', 'particle_radius'),\n",
       " ('PartType1', 'particle_specific_angular_momentum'),\n",
       " ('PartType1', 'particle_specific_angular_momentum_x'),\n",
       " ('PartType1', 'particle_specific_angular_momentum_y'),\n",
       " ('PartType1', 'particle_specific_angular_momentum_z'),\n",
       " ('PartType1', 'particle_spherical_position_phi'),\n",
       " ('PartType1', 'particle_spherical_position_radius'),\n",
       " ('PartType1', 'particle_spherical_position_theta'),\n",
       " ('PartType1', 'particle_spherical_velocity_phi'),\n",
       " ('PartType1', 'particle_spherical_velocity_radius'),\n",
       " ('PartType1', 'particle_spherical_velocity_theta'),\n",
       " ('PartType1', 'particle_velocity'),\n",
       " ('PartType1', 'particle_velocity_cylindrical_radius'),\n",
       " ('PartType1', 'particle_velocity_cylindrical_theta'),\n",
       " ('PartType1', 'particle_velocity_cylindrical_z'),\n",
       " ('PartType1', 'particle_velocity_magnitude'),\n",
       " ('PartType1', 'particle_velocity_relative'),\n",
       " ('PartType1', 'particle_velocity_relative_x'),\n",
       " ('PartType1', 'particle_velocity_relative_y'),\n",
       " ('PartType1', 'particle_velocity_relative_z'),\n",
       " ('PartType1', 'particle_velocity_spherical_phi'),\n",
       " ('PartType1', 'particle_velocity_spherical_radius'),\n",
       " ('PartType1', 'particle_velocity_spherical_theta'),\n",
       " ('PartType1', 'particle_velocity_x'),\n",
       " ('PartType1', 'particle_velocity_y'),\n",
       " ('PartType1', 'particle_velocity_z'),\n",
       " ('PartType2', 'Coordinates'),\n",
       " ('PartType2', 'Masses'),\n",
       " ('PartType2', 'ParticleIDs'),\n",
       " ('PartType2', 'Potential'),\n",
       " ('PartType2', 'Velocities'),\n",
       " ('PartType2', 'mesh_id'),\n",
       " ('PartType2', 'particle_angular_momentum'),\n",
       " ('PartType2', 'particle_angular_momentum_magnitude'),\n",
       " ('PartType2', 'particle_angular_momentum_x'),\n",
       " ('PartType2', 'particle_angular_momentum_y'),\n",
       " ('PartType2', 'particle_angular_momentum_z'),\n",
       " ('PartType2', 'particle_cylindrical_velocity_theta'),\n",
       " ('PartType2', 'particle_cylindrical_velocity_z'),\n",
       " ('PartType2', 'particle_index'),\n",
       " ('PartType2', 'particle_mass'),\n",
       " ('PartType2', 'particle_ones'),\n",
       " ('PartType2', 'particle_position'),\n",
       " ('PartType2', 'particle_position_cylindrical_radius'),\n",
       " ('PartType2', 'particle_position_cylindrical_theta'),\n",
       " ('PartType2', 'particle_position_cylindrical_z'),\n",
       " ('PartType2', 'particle_position_relative'),\n",
       " ('PartType2', 'particle_position_relative_x'),\n",
       " ('PartType2', 'particle_position_relative_y'),\n",
       " ('PartType2', 'particle_position_relative_z'),\n",
       " ('PartType2', 'particle_position_spherical_phi'),\n",
       " ('PartType2', 'particle_position_spherical_radius'),\n",
       " ('PartType2', 'particle_position_spherical_theta'),\n",
       " ('PartType2', 'particle_position_x'),\n",
       " ('PartType2', 'particle_position_y'),\n",
       " ('PartType2', 'particle_position_z'),\n",
       " ('PartType2', 'particle_radial_velocity'),\n",
       " ('PartType2', 'particle_radius'),\n",
       " ('PartType2', 'particle_specific_angular_momentum'),\n",
       " ('PartType2', 'particle_specific_angular_momentum_x'),\n",
       " ('PartType2', 'particle_specific_angular_momentum_y'),\n",
       " ('PartType2', 'particle_specific_angular_momentum_z'),\n",
       " ('PartType2', 'particle_spherical_position_phi'),\n",
       " ('PartType2', 'particle_spherical_position_radius'),\n",
       " ('PartType2', 'particle_spherical_position_theta'),\n",
       " ('PartType2', 'particle_spherical_velocity_phi'),\n",
       " ('PartType2', 'particle_spherical_velocity_radius'),\n",
       " ('PartType2', 'particle_spherical_velocity_theta'),\n",
       " ('PartType2', 'particle_velocity'),\n",
       " ('PartType2', 'particle_velocity_cylindrical_radius'),\n",
       " ('PartType2', 'particle_velocity_cylindrical_theta'),\n",
       " ('PartType2', 'particle_velocity_cylindrical_z'),\n",
       " ('PartType2', 'particle_velocity_magnitude'),\n",
       " ('PartType2', 'particle_velocity_relative'),\n",
       " ('PartType2', 'particle_velocity_relative_x'),\n",
       " ('PartType2', 'particle_velocity_relative_y'),\n",
       " ('PartType2', 'particle_velocity_relative_z'),\n",
       " ('PartType2', 'particle_velocity_spherical_phi'),\n",
       " ('PartType2', 'particle_velocity_spherical_radius'),\n",
       " ('PartType2', 'particle_velocity_spherical_theta'),\n",
       " ('PartType2', 'particle_velocity_x'),\n",
       " ('PartType2', 'particle_velocity_y'),\n",
       " ('PartType2', 'particle_velocity_z'),\n",
       " ('PartType4', 'C_metallicity'),\n",
       " ('PartType4', 'Ca_metallicity'),\n",
       " ('PartType4', 'Coordinates'),\n",
       " ('PartType4', 'Fe_metallicity'),\n",
       " ('PartType4', 'He_metallicity'),\n",
       " ('PartType4', 'Masses'),\n",
       " ('PartType4', 'Metallicity_00'),\n",
       " ('PartType4', 'Metallicity_01'),\n",
       " ('PartType4', 'Metallicity_02'),\n",
       " ('PartType4', 'Metallicity_03'),\n",
       " ('PartType4', 'Metallicity_04'),\n",
       " ('PartType4', 'Metallicity_05'),\n",
       " ('PartType4', 'Metallicity_06'),\n",
       " ('PartType4', 'Metallicity_07'),\n",
       " ('PartType4', 'Metallicity_08'),\n",
       " ('PartType4', 'Metallicity_09'),\n",
       " ('PartType4', 'Metallicity_10'),\n",
       " ('PartType4', 'Mg_metallicity'),\n",
       " ('PartType4', 'N_metallicity'),\n",
       " ('PartType4', 'Ne_metallicity'),\n",
       " ('PartType4', 'O_metallicity'),\n",
       " ('PartType4', 'ParticleIDs'),\n",
       " ('PartType4', 'Potential'),\n",
       " ('PartType4', 'S_metallicity'),\n",
       " ('PartType4', 'Si_metallicity'),\n",
       " ('PartType4', 'StellarFormationTime'),\n",
       " ('PartType4', 'Velocities'),\n",
       " ('PartType4', 'mesh_id'),\n",
       " ('PartType4', 'metallicity'),\n",
       " ('PartType4', 'particle_angular_momentum'),\n",
       " ('PartType4', 'particle_angular_momentum_magnitude'),\n",
       " ('PartType4', 'particle_angular_momentum_x'),\n",
       " ('PartType4', 'particle_angular_momentum_y'),\n",
       " ('PartType4', 'particle_angular_momentum_z'),\n",
       " ('PartType4', 'particle_cylindrical_velocity_theta'),\n",
       " ('PartType4', 'particle_cylindrical_velocity_z'),\n",
       " ('PartType4', 'particle_index'),\n",
       " ('PartType4', 'particle_mass'),\n",
       " ('PartType4', 'particle_ones'),\n",
       " ('PartType4', 'particle_position'),\n",
       " ('PartType4', 'particle_position_cylindrical_radius'),\n",
       " ('PartType4', 'particle_position_cylindrical_theta'),\n",
       " ('PartType4', 'particle_position_cylindrical_z'),\n",
       " ('PartType4', 'particle_position_relative'),\n",
       " ('PartType4', 'particle_position_relative_x'),\n",
       " ('PartType4', 'particle_position_relative_y'),\n",
       " ('PartType4', 'particle_position_relative_z'),\n",
       " ('PartType4', 'particle_position_spherical_phi'),\n",
       " ('PartType4', 'particle_position_spherical_radius'),\n",
       " ('PartType4', 'particle_position_spherical_theta'),\n",
       " ('PartType4', 'particle_position_x'),\n",
       " ('PartType4', 'particle_position_y'),\n",
       " ('PartType4', 'particle_position_z'),\n",
       " ('PartType4', 'particle_radial_velocity'),\n",
       " ('PartType4', 'particle_radius'),\n",
       " ('PartType4', 'particle_specific_angular_momentum'),\n",
       " ('PartType4', 'particle_specific_angular_momentum_x'),\n",
       " ('PartType4', 'particle_specific_angular_momentum_y'),\n",
       " ('PartType4', 'particle_specific_angular_momentum_z'),\n",
       " ('PartType4', 'particle_spherical_position_phi'),\n",
       " ('PartType4', 'particle_spherical_position_radius'),\n",
       " ('PartType4', 'particle_spherical_position_theta'),\n",
       " ('PartType4', 'particle_spherical_velocity_phi'),\n",
       " ('PartType4', 'particle_spherical_velocity_radius'),\n",
       " ('PartType4', 'particle_spherical_velocity_theta'),\n",
       " ('PartType4', 'particle_velocity'),\n",
       " ('PartType4', 'particle_velocity_cylindrical_radius'),\n",
       " ('PartType4', 'particle_velocity_cylindrical_theta'),\n",
       " ('PartType4', 'particle_velocity_cylindrical_z'),\n",
       " ('PartType4', 'particle_velocity_magnitude'),\n",
       " ('PartType4', 'particle_velocity_relative'),\n",
       " ('PartType4', 'particle_velocity_relative_x'),\n",
       " ('PartType4', 'particle_velocity_relative_y'),\n",
       " ('PartType4', 'particle_velocity_relative_z'),\n",
       " ('PartType4', 'particle_velocity_spherical_phi'),\n",
       " ('PartType4', 'particle_velocity_spherical_radius'),\n",
       " ('PartType4', 'particle_velocity_spherical_theta'),\n",
       " ('PartType4', 'particle_velocity_x'),\n",
       " ('PartType4', 'particle_velocity_y'),\n",
       " ('PartType4', 'particle_velocity_z'),\n",
       " ('all', 'Coordinates'),\n",
       " ('all', 'Masses'),\n",
       " ('all', 'ParticleIDs'),\n",
       " ('all', 'Potential'),\n",
       " ('all', 'Velocities'),\n",
       " ('all', 'mesh_id'),\n",
       " ('all', 'particle_angular_momentum'),\n",
       " ('all', 'particle_angular_momentum_magnitude'),\n",
       " ('all', 'particle_angular_momentum_x'),\n",
       " ('all', 'particle_angular_momentum_y'),\n",
       " ('all', 'particle_angular_momentum_z'),\n",
       " ('all', 'particle_cylindrical_velocity_theta'),\n",
       " ('all', 'particle_cylindrical_velocity_z'),\n",
       " ('all', 'particle_index'),\n",
       " ('all', 'particle_mass'),\n",
       " ('all', 'particle_ones'),\n",
       " ('all', 'particle_position'),\n",
       " ('all', 'particle_position_cylindrical_radius'),\n",
       " ('all', 'particle_position_cylindrical_theta'),\n",
       " ('all', 'particle_position_cylindrical_z'),\n",
       " ('all', 'particle_position_relative'),\n",
       " ('all', 'particle_position_relative_x'),\n",
       " ('all', 'particle_position_relative_y'),\n",
       " ('all', 'particle_position_relative_z'),\n",
       " ('all', 'particle_position_spherical_phi'),\n",
       " ('all', 'particle_position_spherical_radius'),\n",
       " ('all', 'particle_position_spherical_theta'),\n",
       " ('all', 'particle_position_x'),\n",
       " ('all', 'particle_position_y'),\n",
       " ('all', 'particle_position_z'),\n",
       " ('all', 'particle_radial_velocity'),\n",
       " ('all', 'particle_radius'),\n",
       " ('all', 'particle_specific_angular_momentum'),\n",
       " ('all', 'particle_specific_angular_momentum_x'),\n",
       " ('all', 'particle_specific_angular_momentum_y'),\n",
       " ('all', 'particle_specific_angular_momentum_z'),\n",
       " ('all', 'particle_spherical_position_phi'),\n",
       " ('all', 'particle_spherical_position_radius'),\n",
       " ('all', 'particle_spherical_position_theta'),\n",
       " ('all', 'particle_spherical_velocity_phi'),\n",
       " ('all', 'particle_spherical_velocity_radius'),\n",
       " ('all', 'particle_spherical_velocity_theta'),\n",
       " ('all', 'particle_velocity'),\n",
       " ('all', 'particle_velocity_cylindrical_radius'),\n",
       " ('all', 'particle_velocity_cylindrical_theta'),\n",
       " ('all', 'particle_velocity_cylindrical_z'),\n",
       " ('all', 'particle_velocity_magnitude'),\n",
       " ('all', 'particle_velocity_relative'),\n",
       " ('all', 'particle_velocity_relative_x'),\n",
       " ('all', 'particle_velocity_relative_y'),\n",
       " ('all', 'particle_velocity_relative_z'),\n",
       " ('all', 'particle_velocity_spherical_phi'),\n",
       " ('all', 'particle_velocity_spherical_radius'),\n",
       " ('all', 'particle_velocity_spherical_theta'),\n",
       " ('all', 'particle_velocity_x'),\n",
       " ('all', 'particle_velocity_y'),\n",
       " ('all', 'particle_velocity_z'),\n",
       " ('deposit', 'PartType0_cic'),\n",
       " ('deposit', 'PartType0_cic_velocity_x'),\n",
       " ('deposit', 'PartType0_cic_velocity_y'),\n",
       " ('deposit', 'PartType0_cic_velocity_z'),\n",
       " ('deposit', 'PartType0_count'),\n",
       " ('deposit', 'PartType0_density'),\n",
       " ('deposit', 'PartType0_mass'),\n",
       " ('deposit', 'PartType0_nn_velocity_x'),\n",
       " ('deposit', 'PartType0_nn_velocity_y'),\n",
       " ('deposit', 'PartType0_nn_velocity_z'),\n",
       " ('deposit', 'PartType0_smoothed_C_metallicity'),\n",
       " ('deposit', 'PartType0_smoothed_C_nuclei_mass_density'),\n",
       " ('deposit', 'PartType0_smoothed_Ca_metallicity'),\n",
       " ('deposit', 'PartType0_smoothed_Ca_nuclei_mass_density'),\n",
       " ('deposit', 'PartType0_smoothed_Fe_metallicity'),\n",
       " ('deposit', 'PartType0_smoothed_Fe_nuclei_mass_density'),\n",
       " ('deposit', 'PartType0_smoothed_H_density'),\n",
       " ('deposit', 'PartType0_smoothed_H_number_density'),\n",
       " ('deposit', 'PartType0_smoothed_H_p0_density'),\n",
       " ('deposit', 'PartType0_smoothed_H_p0_number_density'),\n",
       " ('deposit', 'PartType0_smoothed_H_p1_density'),\n",
       " ('deposit', 'PartType0_smoothed_H_p1_number_density'),\n",
       " ('deposit', 'PartType0_smoothed_He_metallicity'),\n",
       " ('deposit', 'PartType0_smoothed_He_nuclei_mass_density'),\n",
       " ('deposit', 'PartType0_smoothed_Mg_metallicity'),\n",
       " ('deposit', 'PartType0_smoothed_Mg_nuclei_mass_density'),\n",
       " ('deposit', 'PartType0_smoothed_N_metallicity'),\n",
       " ('deposit', 'PartType0_smoothed_N_nuclei_mass_density'),\n",
       " ('deposit', 'PartType0_smoothed_Ne_metallicity'),\n",
       " ('deposit', 'PartType0_smoothed_Ne_nuclei_mass_density'),\n",
       " ('deposit', 'PartType0_smoothed_O_metallicity'),\n",
       " ('deposit', 'PartType0_smoothed_O_nuclei_mass_density'),\n",
       " ('deposit', 'PartType0_smoothed_S_metallicity'),\n",
       " ('deposit', 'PartType0_smoothed_S_nuclei_mass_density'),\n",
       " ('deposit', 'PartType0_smoothed_Si_metallicity'),\n",
       " ('deposit', 'PartType0_smoothed_Si_nuclei_mass_density'),\n",
       " ('deposit', 'PartType0_smoothed_Temperature'),\n",
       " ('deposit', 'PartType0_smoothed_density'),\n",
       " ('deposit', 'PartType0_smoothed_metallicity'),\n",
       " ('deposit', 'PartType0_smoothed_particle_velocity_x'),\n",
       " ('deposit', 'PartType0_smoothed_particle_velocity_y'),\n",
       " ('deposit', 'PartType0_smoothed_particle_velocity_z'),\n",
       " ('deposit', 'PartType0_smoothed_thermal_energy'),\n",
       " ('deposit', 'PartType1_cic'),\n",
       " ('deposit', 'PartType1_cic_velocity_x'),\n",
       " ('deposit', 'PartType1_cic_velocity_y'),\n",
       " ('deposit', 'PartType1_cic_velocity_z'),\n",
       " ('deposit', 'PartType1_count'),\n",
       " ('deposit', 'PartType1_density'),\n",
       " ('deposit', 'PartType1_mass'),\n",
       " ('deposit', 'PartType1_nn_velocity_x'),\n",
       " ('deposit', 'PartType1_nn_velocity_y'),\n",
       " ('deposit', 'PartType1_nn_velocity_z'),\n",
       " ('deposit', 'PartType2_cic'),\n",
       " ('deposit', 'PartType2_cic_velocity_x'),\n",
       " ('deposit', 'PartType2_cic_velocity_y'),\n",
       " ('deposit', 'PartType2_cic_velocity_z'),\n",
       " ('deposit', 'PartType2_count'),\n",
       " ('deposit', 'PartType2_density'),\n",
       " ('deposit', 'PartType2_mass'),\n",
       " ('deposit', 'PartType2_nn_velocity_x'),\n",
       " ('deposit', 'PartType2_nn_velocity_y'),\n",
       " ('deposit', 'PartType2_nn_velocity_z'),\n",
       " ('deposit', 'PartType4_cic'),\n",
       " ('deposit', 'PartType4_cic_velocity_x'),\n",
       " ('deposit', 'PartType4_cic_velocity_y'),\n",
       " ('deposit', 'PartType4_cic_velocity_z'),\n",
       " ('deposit', 'PartType4_count'),\n",
       " ('deposit', 'PartType4_density'),\n",
       " ('deposit', 'PartType4_mass'),\n",
       " ('deposit', 'PartType4_nn_velocity_x'),\n",
       " ('deposit', 'PartType4_nn_velocity_y'),\n",
       " ('deposit', 'PartType4_nn_velocity_z'),\n",
       " ('deposit', 'all_cic'),\n",
       " ('deposit', 'all_cic_velocity_x'),\n",
       " ('deposit', 'all_cic_velocity_y'),\n",
       " ('deposit', 'all_cic_velocity_z'),\n",
       " ('deposit', 'all_count'),\n",
       " ('deposit', 'all_density'),\n",
       " ('deposit', 'all_mass'),\n",
       " ('deposit', 'all_nn_velocity_x'),\n",
       " ('deposit', 'all_nn_velocity_y'),\n",
       " ('deposit', 'all_nn_velocity_z'),\n",
       " ('gas', 'C_metallicity'),\n",
       " ('gas', 'C_nuclei_density'),\n",
       " ('gas', 'C_nuclei_mass_density'),\n",
       " ('gas', 'Ca_metallicity'),\n",
       " ('gas', 'Ca_nuclei_density'),\n",
       " ('gas', 'Ca_nuclei_mass_density'),\n",
       " ('gas', 'Fe_metallicity'),\n",
       " ('gas', 'Fe_nuclei_density'),\n",
       " ('gas', 'Fe_nuclei_mass_density'),\n",
       " ('gas', 'H_density'),\n",
       " ('gas', 'H_fraction'),\n",
       " ('gas', 'H_mass'),\n",
       " ('gas', 'H_nuclei_density'),\n",
       " ('gas', 'H_number_density'),\n",
       " ('gas', 'H_p0_density'),\n",
       " ('gas', 'H_p0_fraction'),\n",
       " ('gas', 'H_p0_mass'),\n",
       " ('gas', 'H_p0_number_density'),\n",
       " ('gas', 'H_p1_density'),\n",
       " ('gas', 'H_p1_fraction'),\n",
       " ('gas', 'H_p1_mass'),\n",
       " ('gas', 'H_p1_number_density'),\n",
       " ('gas', 'He_metallicity'),\n",
       " ('gas', 'He_nuclei_density'),\n",
       " ('gas', 'He_nuclei_mass_density'),\n",
       " ('gas', 'Mg_metallicity'),\n",
       " ('gas', 'Mg_nuclei_density'),\n",
       " ('gas', 'Mg_nuclei_mass_density'),\n",
       " ('gas', 'N_metallicity'),\n",
       " ('gas', 'N_nuclei_density'),\n",
       " ('gas', 'N_nuclei_mass_density'),\n",
       " ('gas', 'Ne_metallicity'),\n",
       " ('gas', 'Ne_nuclei_density'),\n",
       " ('gas', 'Ne_nuclei_mass_density'),\n",
       " ('gas', 'O_metallicity'),\n",
       " ('gas', 'O_nuclei_density'),\n",
       " ('gas', 'O_nuclei_mass_density'),\n",
       " ('gas', 'S_metallicity'),\n",
       " ('gas', 'S_nuclei_density'),\n",
       " ('gas', 'S_nuclei_mass_density'),\n",
       " ('gas', 'Si_metallicity'),\n",
       " ('gas', 'Si_nuclei_density'),\n",
       " ('gas', 'Si_nuclei_mass_density'),\n",
       " ('gas', 'angular_momentum_magnitude'),\n",
       " ('gas', 'angular_momentum_x'),\n",
       " ('gas', 'angular_momentum_y'),\n",
       " ('gas', 'angular_momentum_z'),\n",
       " ('gas', 'averaged_density'),\n",
       " ('gas', 'baryon_overdensity'),\n",
       " ('gas', 'cell_mass'),\n",
       " ('gas', 'cell_volume'),\n",
       " ('gas', 'cutting_plane_velocity_x'),\n",
       " ('gas', 'cutting_plane_velocity_y'),\n",
       " ('gas', 'cutting_plane_velocity_z'),\n",
       " ('gas', 'cylindrical_radial_velocity'),\n",
       " ('gas', 'cylindrical_radial_velocity_absolute'),\n",
       " ('gas', 'cylindrical_tangential_velocity'),\n",
       " ('gas', 'cylindrical_tangential_velocity_absolute'),\n",
       " ('gas', 'density'),\n",
       " ('gas', 'density_gradient_magnitude'),\n",
       " ('gas', 'density_gradient_x'),\n",
       " ('gas', 'density_gradient_y'),\n",
       " ('gas', 'density_gradient_z'),\n",
       " ('gas', 'dx'),\n",
       " ('gas', 'dy'),\n",
       " ('gas', 'dynamical_time'),\n",
       " ('gas', 'dz'),\n",
       " ('gas', 'emission_measure'),\n",
       " ('gas', 'entropy'),\n",
       " ('gas', 'kT'),\n",
       " ('gas', 'kinetic_energy'),\n",
       " ('gas', 'mazzotta_weighting'),\n",
       " ('gas', 'metallicity'),\n",
       " ('gas', 'path_element_x'),\n",
       " ('gas', 'path_element_y'),\n",
       " ('gas', 'path_element_z'),\n",
       " ('gas', 'radial_velocity'),\n",
       " ('gas', 'radial_velocity_absolute'),\n",
       " ('gas', 'shear'),\n",
       " ('gas', 'specific_angular_momentum_magnitude'),\n",
       " ('gas', 'specific_angular_momentum_x'),\n",
       " ('gas', 'specific_angular_momentum_y'),\n",
       " ('gas', 'specific_angular_momentum_z'),\n",
       " ('gas', 'sz_kinetic'),\n",
       " ('gas', 'szy'),\n",
       " ('gas', 'tangential_over_velocity_magnitude'),\n",
       " ('gas', 'tangential_velocity'),\n",
       " ('gas', 'temperature'),\n",
       " ('gas', 'thermal_energy'),\n",
       " ('gas', 'velocity_cylindrical_radius'),\n",
       " ('gas', 'velocity_cylindrical_theta'),\n",
       " ('gas', 'velocity_cylindrical_z'),\n",
       " ('gas', 'velocity_divergence'),\n",
       " ('gas', 'velocity_divergence_absolute'),\n",
       " ('gas', 'velocity_magnitude'),\n",
       " ('gas', 'velocity_spherical_phi'),\n",
       " ('gas', 'velocity_spherical_radius'),\n",
       " ('gas', 'velocity_spherical_theta'),\n",
       " ('gas', 'velocity_x'),\n",
       " ('gas', 'velocity_y'),\n",
       " ('gas', 'velocity_z'),\n",
       " ('gas', 'vertex_x'),\n",
       " ('gas', 'vertex_y'),\n",
       " ('gas', 'vertex_z'),\n",
       " ('gas', 'vorticity_magnitude'),\n",
       " ('gas', 'vorticity_squared'),\n",
       " ('gas', 'vorticity_stretching_magnitude'),\n",
       " ('gas', 'vorticity_stretching_x'),\n",
       " ('gas', 'vorticity_stretching_y'),\n",
       " ('gas', 'vorticity_stretching_z'),\n",
       " ('gas', 'vorticity_x'),\n",
       " ('gas', 'vorticity_y'),\n",
       " ('gas', 'vorticity_z'),\n",
       " ('gas', 'x'),\n",
       " ('gas', 'xray_emissivity'),\n",
       " ('gas', 'y'),\n",
       " ('gas', 'z'),\n",
       " ('index', 'cell_volume'),\n",
       " ('index', 'cylindrical_r'),\n",
       " ('index', 'cylindrical_radius'),\n",
       " ('index', 'cylindrical_theta'),\n",
       " ('index', 'cylindrical_z'),\n",
       " ('index', 'disk_angle'),\n",
       " ('index', 'dx'),\n",
       " ('index', 'dy'),\n",
       " ('index', 'dz'),\n",
       " ('index', 'grid_indices'),\n",
       " ('index', 'grid_level'),\n",
       " ('index', 'height'),\n",
       " ('index', 'morton_index'),\n",
       " ('index', 'ones'),\n",
       " ('index', 'ones_over_dx'),\n",
       " ('index', 'path_element_x'),\n",
       " ('index', 'path_element_y'),\n",
       " ('index', 'path_element_z'),\n",
       " ('index', 'radius'),\n",
       " ('index', 'spherical_phi'),\n",
       " ('index', 'spherical_r'),\n",
       " ('index', 'spherical_radius'),\n",
       " ('index', 'spherical_theta'),\n",
       " ('index', 'vertex_x'),\n",
       " ('index', 'vertex_y'),\n",
       " ('index', 'vertex_z'),\n",
       " ('index', 'virial_radius_fraction'),\n",
       " ('index', 'x'),\n",
       " ('index', 'y'),\n",
       " ('index', 'z'),\n",
       " ('index', 'zeros')]"
      ]
     },
     "execution_count": 63,
     "metadata": {},
     "output_type": "execute_result"
    }
   ],
   "source": [
    "sim.derived_field_list"
   ]
  },
  {
   "cell_type": "code",
   "execution_count": 65,
   "metadata": {
    "collapsed": false
   },
   "outputs": [
    {
     "data": {
      "text/plain": [
       "[('PartType0', 'Coordinates'),\n",
       " ('PartType0', 'Density'),\n",
       " ('PartType0', 'ElectronAbundance'),\n",
       " ('PartType0', 'InternalEnergy'),\n",
       " ('PartType0', 'Masses'),\n",
       " ('PartType0', 'Metallicity_00'),\n",
       " ('PartType0', 'Metallicity_01'),\n",
       " ('PartType0', 'Metallicity_02'),\n",
       " ('PartType0', 'Metallicity_03'),\n",
       " ('PartType0', 'Metallicity_04'),\n",
       " ('PartType0', 'Metallicity_05'),\n",
       " ('PartType0', 'Metallicity_06'),\n",
       " ('PartType0', 'Metallicity_07'),\n",
       " ('PartType0', 'Metallicity_08'),\n",
       " ('PartType0', 'Metallicity_09'),\n",
       " ('PartType0', 'Metallicity_10'),\n",
       " ('PartType0', 'NeutralHydrogenAbundance'),\n",
       " ('PartType0', 'ParticleIDs'),\n",
       " ('PartType0', 'Potential'),\n",
       " ('PartType0', 'SmoothingLength'),\n",
       " ('PartType0', 'StarFormationRate'),\n",
       " ('PartType0', 'Velocities'),\n",
       " ('PartType1', 'Coordinates'),\n",
       " ('PartType1', 'Masses'),\n",
       " ('PartType1', 'ParticleIDs'),\n",
       " ('PartType1', 'Potential'),\n",
       " ('PartType1', 'Velocities'),\n",
       " ('PartType2', 'Coordinates'),\n",
       " ('PartType2', 'Masses'),\n",
       " ('PartType2', 'ParticleIDs'),\n",
       " ('PartType2', 'Potential'),\n",
       " ('PartType2', 'Velocities'),\n",
       " ('PartType4', 'Coordinates'),\n",
       " ('PartType4', 'Masses'),\n",
       " ('PartType4', 'Metallicity_00'),\n",
       " ('PartType4', 'Metallicity_01'),\n",
       " ('PartType4', 'Metallicity_02'),\n",
       " ('PartType4', 'Metallicity_03'),\n",
       " ('PartType4', 'Metallicity_04'),\n",
       " ('PartType4', 'Metallicity_05'),\n",
       " ('PartType4', 'Metallicity_06'),\n",
       " ('PartType4', 'Metallicity_07'),\n",
       " ('PartType4', 'Metallicity_08'),\n",
       " ('PartType4', 'Metallicity_09'),\n",
       " ('PartType4', 'Metallicity_10'),\n",
       " ('PartType4', 'ParticleIDs'),\n",
       " ('PartType4', 'Potential'),\n",
       " ('PartType4', 'StellarFormationTime'),\n",
       " ('PartType4', 'Velocities'),\n",
       " ('all', 'Coordinates'),\n",
       " ('all', 'Masses'),\n",
       " ('all', 'ParticleIDs'),\n",
       " ('all', 'Potential'),\n",
       " ('all', 'Velocities')]"
      ]
     },
     "execution_count": 65,
     "metadata": {},
     "output_type": "execute_result"
    }
   ],
   "source": [
    "sim.field_list"
   ]
  },
  {
   "cell_type": "code",
   "execution_count": null,
   "metadata": {
    "collapsed": true
   },
   "outputs": [],
   "source": []
  }
 ],
 "metadata": {
  "kernelspec": {
   "display_name": "Python 2",
   "language": "python",
   "name": "python2"
  },
  "language_info": {
   "codemirror_mode": {
    "name": "ipython",
    "version": 2
   },
   "file_extension": ".py",
   "mimetype": "text/x-python",
   "name": "python",
   "nbconvert_exporter": "python",
   "pygments_lexer": "ipython2",
   "version": "2.7.13"
  }
 },
 "nbformat": 4,
 "nbformat_minor": 2
}
