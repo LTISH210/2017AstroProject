{
 "cells": [
  {
   "cell_type": "code",
   "execution_count": 1,
   "metadata": {
    "collapsed": true
   },
   "outputs": [],
   "source": [
    "import yt\n",
    "import numpy as np\n",
    "import yt.units as u"
   ]
  },
  {
   "cell_type": "code",
   "execution_count": 2,
   "metadata": {
    "collapsed": false
   },
   "outputs": [
    {
     "name": "stderr",
     "output_type": "stream",
     "text": [
      "yt : [INFO     ] 2017-06-20 11:44:47,448 Calculating time from 1.000e+00 to be 4.355e+17 seconds\n",
      "yt : [INFO     ] 2017-06-20 11:44:47,450 Assuming length units are in kpc/h (comoving)\n",
      "yt : [INFO     ] 2017-06-20 11:44:47,488 Parameters: current_time              = 4.35455710881e+17 s\n",
      "yt : [INFO     ] 2017-06-20 11:44:47,490 Parameters: domain_dimensions         = [2 2 2]\n",
      "yt : [INFO     ] 2017-06-20 11:44:47,497 Parameters: domain_left_edge          = [ 0.  0.  0.]\n",
      "yt : [INFO     ] 2017-06-20 11:44:47,500 Parameters: domain_right_edge         = [ 60000.  60000.  60000.]\n",
      "yt : [INFO     ] 2017-06-20 11:44:47,503 Parameters: cosmological_simulation   = 1\n",
      "yt : [INFO     ] 2017-06-20 11:44:47,504 Parameters: current_redshift          = 0.0\n",
      "yt : [INFO     ] 2017-06-20 11:44:47,507 Parameters: omega_lambda              = 0.728\n",
      "yt : [INFO     ] 2017-06-20 11:44:47,513 Parameters: omega_matter              = 0.272\n",
      "yt : [INFO     ] 2017-06-20 11:44:47,516 Parameters: hubble_constant           = 0.702\n"
     ]
    }
   ],
   "source": [
    "ds = yt.load(\"/Users/astrocomnyc/Desktop/FIRE_M12i_ref11/snapshot_600.hdf5\")"
   ]
  },
  {
   "cell_type": "code",
   "execution_count": 3,
   "metadata": {
    "collapsed": false
   },
   "outputs": [
    {
     "name": "stdout",
     "output_type": "stream",
     "text": [
      "/Users/astrocomnyc/Desktop\n"
     ]
    }
   ],
   "source": [
    "cd Desktop"
   ]
  },
  {
   "cell_type": "code",
   "execution_count": 4,
   "metadata": {
    "collapsed": true
   },
   "outputs": [],
   "source": [
    "import practiceFunction"
   ]
  },
  {
   "cell_type": "code",
   "execution_count": 9,
   "metadata": {
    "collapsed": false
   },
   "outputs": [
    {
     "data": {
      "text/plain": [
       "<module 'practiceFunction' from 'practiceFunction.py'>"
      ]
     },
     "execution_count": 9,
     "metadata": {},
     "output_type": "execute_result"
    }
   ],
   "source": [
    "reload(practiceFunction)"
   ]
  },
  {
   "cell_type": "code",
   "execution_count": 11,
   "metadata": {
    "collapsed": false
   },
   "outputs": [
    {
     "name": "stderr",
     "output_type": "stream",
     "text": [
      "yt : [INFO     ] 2017-06-20 15:48:20,870 Max Value is 1.30128e+02 at 29286.1032485961914062 31049.2944717407226562 32589.5833969116210938\n"
     ]
    },
    {
     "name": "stdout",
     "output_type": "stream",
     "text": [
      "[ 29286.1032486   31049.29447174  32589.58339691] code_length\n",
      "48\n",
      "[ 0.29296875  0.29296875  0.29296875] kpc\n",
      "[ 0.08583069  0.08583069  0.08583069] kpc**2\n",
      "[ 4.11987305  4.11987305  4.11987305] kpc**2\n"
     ]
    },
    {
     "name": "stderr",
     "output_type": "stream",
     "text": [
      "/anaconda/lib/python2.7/site-packages/matplotlib/tight_layout.py:222: UserWarning: tight_layout : falling back to Agg renderer\n",
      "  warnings.warn(\"tight_layout : falling back to Agg renderer\")\n",
      "yt : [INFO     ] 2017-06-20 15:50:31,188 Saving plot Tester2.png\n"
     ]
    }
   ],
   "source": [
    "practiceFunction.practice(ds,w=75.0)"
   ]
  },
  {
   "cell_type": "code",
   "execution_count": 8,
   "metadata": {
    "collapsed": false
   },
   "outputs": [
    {
     "name": "stderr",
     "output_type": "stream",
     "text": [
      "yt : [INFO     ] 2017-06-20 11:57:53,681 Max Value is 1.30128e+02 at 29286.1032485961914062 31049.2944717407226562 32589.5833969116210938\n"
     ]
    },
    {
     "name": "stdout",
     "output_type": "stream",
     "text": [
      "[ 29286.1032486   31049.29447174  32589.58339691] code_length\n",
      "[ 45.  45.  45.] kpc\n",
      "45.0\n",
      "[[  5.46408588e+12   5.46408588e+12   5.46408588e+12 ...,   2.89100419e+17\n",
      "    2.89100419e+17   2.89100419e+17]\n",
      " [  5.46408588e+12   5.46408588e+12   5.46408588e+12 ...,   2.89100419e+17\n",
      "    2.89100419e+17   2.89100419e+17]\n",
      " [  5.46408588e+12   5.46408588e+12   5.46408588e+12 ...,   2.89100419e+17\n",
      "    2.89100419e+17   2.89100419e+17]\n",
      " ..., \n",
      " [  2.68026970e+12   2.68026970e+12   2.68026970e+12 ...,   7.80750199e+12\n",
      "    7.80750199e+12   7.80750199e+12]\n",
      " [  2.68026970e+12   2.68026970e+12   2.68026970e+12 ...,   7.80750199e+12\n",
      "    7.80750199e+12   7.80750199e+12]\n",
      " [  2.68026970e+12   2.68026970e+12   2.68026970e+12 ...,   7.80750199e+12\n",
      "    7.80750199e+12   7.80750199e+12]] cm**(-2)\n",
      "[[False False False ..., False False False]\n",
      " [False False False ..., False False False]\n",
      " [False False False ..., False False False]\n",
      " ..., \n",
      " [False False False ..., False False False]\n",
      " [False False False ..., False False False]\n",
      " [False False False ..., False False False]]\n",
      "516\n",
      "[ 0.08789062  0.08789062  0.08789062] kpc\n",
      "[ 0.00772476  0.00772476  0.00772476] kpc**2\n",
      "[ 3.98597717  3.98597717  3.98597717] kpc**2\n"
     ]
    }
   ],
   "source": [
    "practiceFunction.practice(ds,a=45.0,b=45.0,c=45.0)"
   ]
  },
  {
   "cell_type": "code",
   "execution_count": null,
   "metadata": {
    "collapsed": true
   },
   "outputs": [],
   "source": []
  }
 ],
 "metadata": {
  "kernelspec": {
   "display_name": "Python 2",
   "language": "python",
   "name": "python2"
  },
  "language_info": {
   "codemirror_mode": {
    "name": "ipython",
    "version": 2
   },
   "file_extension": ".py",
   "mimetype": "text/x-python",
   "name": "python",
   "nbconvert_exporter": "python",
   "pygments_lexer": "ipython2",
   "version": "2.7.13"
  }
 },
 "nbformat": 4,
 "nbformat_minor": 2
}
