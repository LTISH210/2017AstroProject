{
 "cells": [
  {
   "cell_type": "code",
   "execution_count": 1,
   "metadata": {
    "collapsed": true
   },
   "outputs": [],
   "source": [
    "import yt\n",
    "import numpy as np\n",
    "import yt.units as u"
   ]
  },
  {
   "cell_type": "code",
   "execution_count": 2,
   "metadata": {
    "collapsed": false
   },
   "outputs": [
    {
     "name": "stderr",
     "output_type": "stream",
     "text": [
      "yt : [INFO     ] 2017-06-20 11:40:44,893 Calculating time from 1.000e+00 to be 4.355e+17 seconds\n",
      "yt : [INFO     ] 2017-06-20 11:40:44,894 Assuming length units are in kpc/h (comoving)\n",
      "yt : [INFO     ] 2017-06-20 11:40:44,932 Parameters: current_time              = 4.35455710881e+17 s\n",
      "yt : [INFO     ] 2017-06-20 11:40:44,934 Parameters: domain_dimensions         = [2 2 2]\n",
      "yt : [INFO     ] 2017-06-20 11:40:44,938 Parameters: domain_left_edge          = [ 0.  0.  0.]\n",
      "yt : [INFO     ] 2017-06-20 11:40:44,939 Parameters: domain_right_edge         = [ 60000.  60000.  60000.]\n",
      "yt : [INFO     ] 2017-06-20 11:40:44,941 Parameters: cosmological_simulation   = 1\n",
      "yt : [INFO     ] 2017-06-20 11:40:44,943 Parameters: current_redshift          = 0.0\n",
      "yt : [INFO     ] 2017-06-20 11:40:44,946 Parameters: omega_lambda              = 0.728\n",
      "yt : [INFO     ] 2017-06-20 11:40:44,947 Parameters: omega_matter              = 0.272\n",
      "yt : [INFO     ] 2017-06-20 11:40:44,949 Parameters: hubble_constant           = 0.702\n"
     ]
    }
   ],
   "source": [
    "ds = yt.load(\"/Users/astrocomnyc/Desktop/FIRE_M12i_ref11/snapshot_600.hdf5\")"
   ]
  },
  {
   "cell_type": "code",
   "execution_count": 5,
   "metadata": {
    "collapsed": false
   },
   "outputs": [
    {
     "name": "stdout",
     "output_type": "stream",
     "text": [
      "/Users/astrocomnyc/Desktop\n"
     ]
    }
   ],
   "source": [
    "cd Desktop"
   ]
  },
  {
   "cell_type": "code",
   "execution_count": 13,
   "metadata": {
    "collapsed": false
   },
   "outputs": [],
   "source": [
    "import practiceFunction"
   ]
  },
  {
   "cell_type": "code",
   "execution_count": 18,
   "metadata": {
    "collapsed": false
   },
   "outputs": [
    {
     "data": {
      "text/plain": [
       "<module 'practiceFunction' from 'practiceFunction.py'>"
      ]
     },
     "execution_count": 18,
     "metadata": {},
     "output_type": "execute_result"
    }
   ],
   "source": [
    "reload(practiceFunction)"
   ]
  },
  {
   "cell_type": "code",
   "execution_count": 19,
   "metadata": {
    "collapsed": false
   },
   "outputs": [
    {
     "name": "stderr",
     "output_type": "stream",
     "text": [
      "yt : [INFO     ] 2017-06-20 11:50:33,636 Max Value is 1.30128e+02 at 29286.1032485961914062 31049.2944717407226562 32589.5833969116210938\n"
     ]
    },
    {
     "name": "stdout",
     "output_type": "stream",
     "text": [
      "[ 29286.1032486   31049.29447174  32589.58339691] code_length\n",
      "[ 50.  50.  50.] kpc\n",
      "50.0\n",
      "[[  6.14464287e+12   6.14464287e+12   6.14464287e+12 ...,   6.84099452e+17\n",
      "    6.84099452e+17   6.84099452e+17]\n",
      " [  6.14464287e+12   6.14464287e+12   6.14464287e+12 ...,   6.84099452e+17\n",
      "    6.84099452e+17   6.84099452e+17]\n",
      " [  6.14464287e+12   6.14464287e+12   6.14464287e+12 ...,   6.84099452e+17\n",
      "    6.84099452e+17   6.84099452e+17]\n",
      " ..., \n",
      " [  1.64526458e+12   1.64526458e+12   1.64526458e+12 ...,   7.79363555e+12\n",
      "    7.79363555e+12   7.79363555e+12]\n",
      " [  1.64526458e+12   1.64526458e+12   1.64526458e+12 ...,   7.79363555e+12\n",
      "    7.79363555e+12   7.79363555e+12]\n",
      " [  1.64526458e+12   1.64526458e+12   1.64526458e+12 ...,   7.79363555e+12\n",
      "    7.79363555e+12   7.79363555e+12]] cm**(-2)\n",
      "[[False False False ..., False False False]\n",
      " [False False False ..., False False False]\n",
      " [False False False ..., False False False]\n",
      " ..., \n",
      " [False False False ..., False False False]\n",
      " [False False False ..., False False False]\n",
      " [False False False ..., False False False]]\n",
      "425\n",
      "[ 0.09765625  0.09765625  0.09765625] kpc\n",
      "[ 0.00953674  0.00953674  0.00953674] kpc**2\n",
      "[ 4.05311584  4.05311584  4.05311584] kpc**2\n"
     ]
    }
   ],
   "source": [
    "practiceFunction.practice(ds)"
   ]
  },
  {
   "cell_type": "code",
   "execution_count": 20,
   "metadata": {
    "collapsed": false
   },
   "outputs": [
    {
     "name": "stderr",
     "output_type": "stream",
     "text": [
      "yt : [INFO     ] 2017-06-20 11:54:35,513 Max Value is 1.30128e+02 at 29286.1032485961914062 31049.2944717407226562 32589.5833969116210938\n"
     ]
    },
    {
     "name": "stdout",
     "output_type": "stream",
     "text": [
      "[ 29286.1032486   31049.29447174  32589.58339691] code_length\n",
      "[ 80.  80.  80.] kpc\n",
      "80.0\n",
      "[[  4.92509236e+13   4.92509236e+13   5.35890419e+13 ...,   1.42676434e+15\n",
      "    1.42676434e+15   1.42676434e+15]\n",
      " [  4.92509236e+13   4.92509236e+13   5.35890419e+13 ...,   1.42676434e+15\n",
      "    1.42676434e+15   1.42676434e+15]\n",
      " [  4.92509236e+13   4.92509236e+13   5.35890419e+13 ...,   1.42676434e+15\n",
      "    1.42676434e+15   1.42676434e+15]\n",
      " ..., \n",
      " [  2.71228783e+13   2.71228783e+13   2.66507873e+13 ...,   8.50180419e+13\n",
      "    8.50180419e+13   8.50180419e+13]\n",
      " [  2.71228783e+13   2.71228783e+13   2.66507873e+13 ...,   8.50180419e+13\n",
      "    8.50180419e+13   8.50180419e+13]\n",
      " [  2.71228783e+13   2.71228783e+13   2.66507873e+13 ...,   8.50180419e+13\n",
      "    8.50180419e+13   8.50180419e+13]] cm**(-2)\n",
      "[[False False False ..., False False False]\n",
      " [False False False ..., False False False]\n",
      " [False False False ..., False False False]\n",
      " ..., \n",
      " [False False False ..., False False False]\n",
      " [False False False ..., False False False]\n",
      " [False False False ..., False False False]]\n",
      "163\n",
      "[ 0.15625  0.15625  0.15625] kpc\n",
      "[ 0.02441406  0.02441406  0.02441406] kpc**2\n",
      "[ 3.97949219  3.97949219  3.97949219] kpc**2\n"
     ]
    }
   ],
   "source": [
    "practiceFunction.practice(ds,a=80.0,b=80.0,c=80.0)"
   ]
  },
  {
   "cell_type": "code",
   "execution_count": 21,
   "metadata": {
    "collapsed": false
   },
   "outputs": [
    {
     "name": "stderr",
     "output_type": "stream",
     "text": [
      "yt : [INFO     ] 2017-06-20 11:58:17,739 Max Value is 1.30128e+02 at 29286.1032485961914062 31049.2944717407226562 32589.5833969116210938\n"
     ]
    },
    {
     "name": "stdout",
     "output_type": "stream",
     "text": [
      "[ 29286.1032486   31049.29447174  32589.58339691] code_length\n",
      "[ 60.  60.  60.] kpc\n",
      "60.0\n",
      "[[  1.52265055e+13   1.52265055e+13   1.52265055e+13 ...,   3.29021388e+15\n",
      "    3.29021388e+15   3.29021388e+15]\n",
      " [  1.52265055e+13   1.52265055e+13   1.52265055e+13 ...,   3.29021388e+15\n",
      "    3.29021388e+15   3.29021388e+15]\n",
      " [  1.52265055e+13   1.52265055e+13   1.52265055e+13 ...,   3.29021388e+15\n",
      "    3.29021388e+15   3.29021388e+15]\n",
      " ..., \n",
      " [  2.86901427e+12   2.86901427e+12   2.86901427e+12 ...,   1.64728399e+13\n",
      "    1.64728399e+13   1.64728399e+13]\n",
      " [  2.86901427e+12   2.86901427e+12   2.86901427e+12 ...,   1.64728399e+13\n",
      "    1.64728399e+13   1.64728399e+13]\n",
      " [  2.86901427e+12   2.86901427e+12   2.86901427e+12 ...,   1.64728399e+13\n",
      "    1.64728399e+13   1.64728399e+13]] cm**(-2)\n",
      "[[False False False ..., False False False]\n",
      " [False False False ..., False False False]\n",
      " [False False False ..., False False False]\n",
      " ..., \n",
      " [False False False ..., False False False]\n",
      " [False False False ..., False False False]\n",
      " [False False False ..., False False False]]\n",
      "304\n",
      "[ 0.1171875  0.1171875  0.1171875] kpc\n",
      "[ 0.01373291  0.01373291  0.01373291] kpc**2\n",
      "[ 4.17480469  4.17480469  4.17480469] kpc**2\n"
     ]
    }
   ],
   "source": [
    "practiceFunction.practice(ds, a=60.0,b=60.0,c=60.0)"
   ]
  },
  {
   "cell_type": "code",
   "execution_count": null,
   "metadata": {
    "collapsed": true
   },
   "outputs": [],
   "source": []
  }
 ],
 "metadata": {
  "kernelspec": {
   "display_name": "Python 2",
   "language": "python",
   "name": "python2"
  },
  "language_info": {
   "codemirror_mode": {
    "name": "ipython",
    "version": 2
   },
   "file_extension": ".py",
   "mimetype": "text/x-python",
   "name": "python",
   "nbconvert_exporter": "python",
   "pygments_lexer": "ipython2",
   "version": "2.7.13"
  }
 },
 "nbformat": 4,
 "nbformat_minor": 2
}
